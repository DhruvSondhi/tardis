{
 "cells": [
  {
   "cell_type": "markdown",
   "id": "67d6982f",
   "metadata": {},
   "source": [
    "# Configuring the Logging Output for TARDIS"
   ]
  },
  {
   "cell_type": "markdown",
   "id": "ac4ba612",
   "metadata": {},
   "source": [
    "**TARDIS** has a Notebook logger that logs information of Simulation runs. The logs allows to access vital information regarding the execution sequence, data for plasma stratification & progress of the simulation.<br>\n",
    "**TARDIS** allows configuring the logger via *Functional Arguments* as well as *YAML Parameters*.\n",
    "The following code snippets are some of the possible configuration that is available for the notebook logging done with TARDIS simulation."
   ]
  },
  {
   "cell_type": "markdown",
   "id": "ce886182",
   "metadata": {},
   "source": [
    "## Default Configuration"
   ]
  },
  {
   "cell_type": "markdown",
   "id": "34e59abc",
   "metadata": {},
   "source": [
    "The default configuration of the Notebook Simulation logger is such that it doesn't output any logs."
   ]
  },
  {
   "cell_type": "markdown",
   "id": "41da9db6",
   "metadata": {},
   "source": [
    "The output simulation logging, while executing the **TARDIS** simulation (default behaviour), can be seen below:"
   ]
  },
  {
   "cell_type": "code",
   "execution_count": 1,
   "id": "018bb127",
   "metadata": {
    "execution": {
     "iopub.execute_input": "2021-06-22T18:40:43.157882Z",
     "iopub.status.busy": "2021-06-22T18:40:43.157262Z",
     "iopub.status.idle": "2021-06-22T18:40:43.845319Z",
     "shell.execute_reply": "2021-06-22T18:40:43.844311Z"
    }
   },
   "outputs": [
    {
     "name": "stderr",
     "output_type": "stream",
     "text": [
      "/usr/share/miniconda3/envs/tardis/lib/python3.7/importlib/_bootstrap.py:219: QAWarning: pyne.data is not yet QA compliant.\n",
      "  return f(*args, **kwds)\n"
     ]
    }
   ],
   "source": [
    "from tardis import run_tardis\n",
    "from tardis.io.atom_data.util import download_atom_data"
   ]
  },
  {
   "cell_type": "code",
   "execution_count": 2,
   "id": "ad59aa05",
   "metadata": {
    "execution": {
     "iopub.execute_input": "2021-06-22T18:40:43.850833Z",
     "iopub.status.busy": "2021-06-22T18:40:43.849420Z",
     "iopub.status.idle": "2021-06-22T18:40:43.890433Z",
     "shell.execute_reply": "2021-06-22T18:40:43.890922Z"
    },
    "scrolled": false
   },
   "outputs": [
    {
     "name": "stdout",
     "output_type": "stream",
     "text": [
      "[\u001b[1mtardis.io.atom_data.atom_web_download\u001b[0m][\u001b[1;37mINFO\u001b[0m   ]  Downloading atomic data from https://media.githubusercontent.com/media/tardis-sn/tardis-refdata/master/atom_data/kurucz_cd23_chianti_H_He.h5 to /home/runner/Downloads/tardis-data/kurucz_cd23_chianti_H_He.h5 (\u001b[1matom_web_download.py\u001b[0m:46)\n"
     ]
    }
   ],
   "source": [
    "download_atom_data('kurucz_cd23_chianti_H_He')"
   ]
  },
  {
   "cell_type": "code",
   "execution_count": 3,
   "id": "64cf4bb2",
   "metadata": {
    "execution": {
     "iopub.execute_input": "2021-06-22T18:40:43.895869Z",
     "iopub.status.busy": "2021-06-22T18:40:43.894456Z",
     "iopub.status.idle": "2021-06-22T18:41:05.316011Z",
     "shell.execute_reply": "2021-06-22T18:41:05.314991Z"
    }
   },
   "outputs": [],
   "source": [
    "sim = run_tardis(\"tardis_config_logger.yml\")"
   ]
  },
  {
   "cell_type": "markdown",
   "id": "9bf77405",
   "metadata": {},
   "source": [
    "It can be examined that the logs are not printed.<br> The logging level, by default, is set to `CRITICAL`. Logs will only be captured if any `CRITICAL` level logs are encountered while running the simulation."
   ]
  },
  {
   "cell_type": "markdown",
   "id": "420dd7c2",
   "metadata": {},
   "source": [
    "## Logging Configuration (Functional Arguments)"
   ]
  },
  {
   "cell_type": "markdown",
   "id": "ac8d5088",
   "metadata": {},
   "source": [
    "The `run_tardis()` function from the `tardis module` has two functional arguments:`log_state` & `specific`."
   ]
  },
  {
   "cell_type": "markdown",
   "id": "d58f2d9c",
   "metadata": {},
   "source": [
    "<div class=\"alert alert-info\" role=\"alert\">\n",
    "    Both <strong>log_state</strong> & <strong>specific</strong> are optional arguments for the <strong>run_tardis()</strong> function, however, if <strong>specific</strong> argument is used then, <strong>log_state</strong> must be set to a particular level.\n",
    "</div>"
   ]
  },
  {
   "cell_type": "markdown",
   "id": "1176f370",
   "metadata": {},
   "source": [
    "### `log_state`"
   ]
  },
  {
   "cell_type": "markdown",
   "id": "c3547b04",
   "metadata": {},
   "source": [
    "The `log_state` argument can be passed in `run_tardis()` to set the logging level for the simulation. The input for this argument **must be** one of the following: **Notset, Debug, Info, Warning, Error** or **Critical**."
   ]
  },
  {
   "cell_type": "code",
   "execution_count": 4,
   "id": "dc2dcd71",
   "metadata": {
    "execution": {
     "iopub.execute_input": "2021-06-22T18:41:05.329063Z",
     "iopub.status.busy": "2021-06-22T18:41:05.319995Z",
     "iopub.status.idle": "2021-06-22T18:41:09.231314Z",
     "shell.execute_reply": "2021-06-22T18:41:09.232132Z"
    },
    "scrolled": false
   },
   "outputs": [
    {
     "name": "stdout",
     "output_type": "stream",
     "text": [
      "[\u001b[1mtardis.plasma.standard_plasmas\u001b[0m][\u001b[1;37mINFO\u001b[0m   ]  \n",
      "\tReading Atomic Data from kurucz_cd23_chianti_H_He.h5 (\u001b[1mstandard_plasmas.py\u001b[0m:91)\n"
     ]
    },
    {
     "name": "stdout",
     "output_type": "stream",
     "text": [
      "[\u001b[1mtardis.io.atom_data.util\u001b[0m][\u001b[1;37mINFO\u001b[0m   ]  \n",
      "\tAtom Data kurucz_cd23_chianti_H_He.h5 not found in local path.\n",
      "\tExists in TARDIS Data repo /home/runner/Downloads/tardis-data/kurucz_cd23_chianti_H_He.h5 (\u001b[1mutil.py\u001b[0m:34)\n"
     ]
    },
    {
     "name": "stdout",
     "output_type": "stream",
     "text": [
      "[\u001b[1mtardis.io.atom_data.base\u001b[0m][\u001b[1;37mINFO\u001b[0m   ]  \n",
      "\tReading Atom Data with:\n",
      "\tUUID = 6f7b09e887a311e7a06b246e96350010\n",
      "\tMD5  = 864f1753714343c41f99cb065710cace  (\u001b[1mbase.py\u001b[0m:189)\n"
     ]
    },
    {
     "name": "stdout",
     "output_type": "stream",
     "text": [
      "[\u001b[1mtardis.io.atom_data.base\u001b[0m][\u001b[1;37mINFO\u001b[0m   ]  \n",
      "\tNon provided atomic data:\n",
      "\tsynpp_refs, photoionization_data, yg_data, two_photon_data (\u001b[1mbase.py\u001b[0m:193)\n"
     ]
    },
    {
     "name": "stdout",
     "output_type": "stream",
     "text": [
      "[\u001b[1mtardis.simulation.base\u001b[0m][\u001b[1;37mINFO\u001b[0m   ]  \n",
      "\tStarting iteration 1 of 5 (\u001b[1mbase.py\u001b[0m:325)\n"
     ]
    },
    {
     "name": "stdout",
     "output_type": "stream",
     "text": [
      "[\u001b[1mtardis.simulation.base\u001b[0m][\u001b[1;37mINFO\u001b[0m   ]  \n",
      "\tLuminosity emitted   = 7.947e+42 erg / s\n",
      "\tLuminosity absorbed  = 2.654e+42 erg / s\n",
      "\tLuminosity requested = 1.059e+43 erg / s\n",
      " (\u001b[1mbase.py\u001b[0m:463)\n"
     ]
    },
    {
     "name": "stdout",
     "output_type": "stream",
     "text": [
      "[\u001b[1mtardis.simulation.base\u001b[0m][\u001b[1;37mINFO\u001b[0m   ]  \n",
      "\tPlasma stratification: (\u001b[1mbase.py\u001b[0m:430)\n"
     ]
    },
    {
     "name": "stdout",
     "output_type": "stream",
     "text": [
      "[\u001b[1mpy.warnings         \u001b[0m][\u001b[1;33mWARNING\u001b[0m]  /usr/share/miniconda3/envs/tardis/lib/python3.7/site-packages/traitlets/traitlets.py:3036: FutureWarning: --rc={'figure.dpi': 96} for dict-traits is deprecated in traitlets 5.0. You can pass --rc <key=value> ... multiple times to add items to a dict.\n",
      "  FutureWarning,\n",
      " (\u001b[1mwarnings.py\u001b[0m:110)\n"
     ]
    },
    {
     "data": {
      "text/html": [
       "<style  type=\"text/css\" >\n",
       "</style><table id=\"T_68937d00_d389_11eb_98a6_000d3af525c4\" ><thead>    <tr>        <th class=\"index_name level0\" >Shell No.</th>        <th class=\"col_heading level0 col0\" >t_rad</th>        <th class=\"col_heading level0 col1\" >next_t_rad</th>        <th class=\"col_heading level0 col2\" >w</th>        <th class=\"col_heading level0 col3\" >next_w</th>    </tr></thead><tbody>\n",
       "                <tr>\n",
       "                        <th id=\"T_68937d00_d389_11eb_98a6_000d3af525c4level0_row0\" class=\"row_heading level0 row0\" >0</th>\n",
       "                        <td id=\"T_68937d00_d389_11eb_98a6_000d3af525c4row0_col0\" class=\"data row0 col0\" >9.93e+03</td>\n",
       "                        <td id=\"T_68937d00_d389_11eb_98a6_000d3af525c4row0_col1\" class=\"data row0 col1\" >1.03e+04</td>\n",
       "                        <td id=\"T_68937d00_d389_11eb_98a6_000d3af525c4row0_col2\" class=\"data row0 col2\" >0.4</td>\n",
       "                        <td id=\"T_68937d00_d389_11eb_98a6_000d3af525c4row0_col3\" class=\"data row0 col3\" >0.481</td>\n",
       "            </tr>\n",
       "            <tr>\n",
       "                        <th id=\"T_68937d00_d389_11eb_98a6_000d3af525c4level0_row1\" class=\"row_heading level0 row1\" >5</th>\n",
       "                        <td id=\"T_68937d00_d389_11eb_98a6_000d3af525c4row1_col0\" class=\"data row1 col0\" >9.85e+03</td>\n",
       "                        <td id=\"T_68937d00_d389_11eb_98a6_000d3af525c4row1_col1\" class=\"data row1 col1\" >1.03e+04</td>\n",
       "                        <td id=\"T_68937d00_d389_11eb_98a6_000d3af525c4row1_col2\" class=\"data row1 col2\" >0.211</td>\n",
       "                        <td id=\"T_68937d00_d389_11eb_98a6_000d3af525c4row1_col3\" class=\"data row1 col3\" >0.193</td>\n",
       "            </tr>\n",
       "            <tr>\n",
       "                        <th id=\"T_68937d00_d389_11eb_98a6_000d3af525c4level0_row2\" class=\"row_heading level0 row2\" >10</th>\n",
       "                        <td id=\"T_68937d00_d389_11eb_98a6_000d3af525c4row2_col0\" class=\"data row2 col0\" >9.78e+03</td>\n",
       "                        <td id=\"T_68937d00_d389_11eb_98a6_000d3af525c4row2_col1\" class=\"data row2 col1\" >1.02e+04</td>\n",
       "                        <td id=\"T_68937d00_d389_11eb_98a6_000d3af525c4row2_col2\" class=\"data row2 col2\" >0.143</td>\n",
       "                        <td id=\"T_68937d00_d389_11eb_98a6_000d3af525c4row2_col3\" class=\"data row2 col3\" >0.112</td>\n",
       "            </tr>\n",
       "            <tr>\n",
       "                        <th id=\"T_68937d00_d389_11eb_98a6_000d3af525c4level0_row3\" class=\"row_heading level0 row3\" >15</th>\n",
       "                        <td id=\"T_68937d00_d389_11eb_98a6_000d3af525c4row3_col0\" class=\"data row3 col0\" >9.71e+03</td>\n",
       "                        <td id=\"T_68937d00_d389_11eb_98a6_000d3af525c4row3_col1\" class=\"data row3 col1\" >9.98e+03</td>\n",
       "                        <td id=\"T_68937d00_d389_11eb_98a6_000d3af525c4row3_col2\" class=\"data row3 col2\" >0.105</td>\n",
       "                        <td id=\"T_68937d00_d389_11eb_98a6_000d3af525c4row3_col3\" class=\"data row3 col3\" >0.0826</td>\n",
       "            </tr>\n",
       "    </tbody></table>"
      ],
      "text/plain": [
       "<pandas.io.formats.style.Styler at 0x7f23855c5510>"
      ]
     },
     "metadata": {},
     "output_type": "display_data"
    },
    {
     "name": "stdout",
     "output_type": "stream",
     "text": [
      "[\u001b[1mtardis.simulation.base\u001b[0m][\u001b[1;37mINFO\u001b[0m   ]  \n",
      "\tCurrent t_inner = 9933.952 K\n",
      "\tExpected t_inner for next iteration = 11468.808 K\n",
      " (\u001b[1mbase.py\u001b[0m:458)\n"
     ]
    },
    {
     "name": "stdout",
     "output_type": "stream",
     "text": [
      "[\u001b[1mtardis.simulation.base\u001b[0m][\u001b[1;37mINFO\u001b[0m   ]  \n",
      "\tStarting iteration 2 of 5 (\u001b[1mbase.py\u001b[0m:325)\n"
     ]
    },
    {
     "name": "stdout",
     "output_type": "stream",
     "text": [
      "[\u001b[1mpy.warnings         \u001b[0m][\u001b[1;33mWARNING\u001b[0m]  /usr/share/miniconda3/envs/tardis/lib/python3.7/site-packages/astropy/units/equivalencies.py:124: RuntimeWarning: divide by zero encountered in double_scalars\n",
      "  (si.m, si.Hz, lambda x: _si.c.value / x),\n",
      " (\u001b[1mwarnings.py\u001b[0m:110)\n"
     ]
    },
    {
     "name": "stdout",
     "output_type": "stream",
     "text": [
      "[\u001b[1mtardis.simulation.base\u001b[0m][\u001b[1;37mINFO\u001b[0m   ]  \n",
      "\tLuminosity emitted   = 1.413e+43 erg / s\n",
      "\tLuminosity absorbed  = 4.704e+42 erg / s\n",
      "\tLuminosity requested = 1.059e+43 erg / s\n",
      " (\u001b[1mbase.py\u001b[0m:463)\n"
     ]
    },
    {
     "name": "stdout",
     "output_type": "stream",
     "text": [
      "[\u001b[1mtardis.simulation.base\u001b[0m][\u001b[1;37mINFO\u001b[0m   ]  \n",
      "\tPlasma stratification: (\u001b[1mbase.py\u001b[0m:430)\n"
     ]
    },
    {
     "data": {
      "text/html": [
       "<style  type=\"text/css\" >\n",
       "</style><table id=\"T_68ac2576_d389_11eb_98a6_000d3af525c4\" ><thead>    <tr>        <th class=\"index_name level0\" >Shell No.</th>        <th class=\"col_heading level0 col0\" >t_rad</th>        <th class=\"col_heading level0 col1\" >next_t_rad</th>        <th class=\"col_heading level0 col2\" >w</th>        <th class=\"col_heading level0 col3\" >next_w</th>    </tr></thead><tbody>\n",
       "                <tr>\n",
       "                        <th id=\"T_68ac2576_d389_11eb_98a6_000d3af525c4level0_row0\" class=\"row_heading level0 row0\" >0</th>\n",
       "                        <td id=\"T_68ac2576_d389_11eb_98a6_000d3af525c4row0_col0\" class=\"data row0 col0\" >1.03e+04</td>\n",
       "                        <td id=\"T_68ac2576_d389_11eb_98a6_000d3af525c4row0_col1\" class=\"data row0 col1\" >1.15e+04</td>\n",
       "                        <td id=\"T_68ac2576_d389_11eb_98a6_000d3af525c4row0_col2\" class=\"data row0 col2\" >0.481</td>\n",
       "                        <td id=\"T_68ac2576_d389_11eb_98a6_000d3af525c4row0_col3\" class=\"data row0 col3\" >0.555</td>\n",
       "            </tr>\n",
       "            <tr>\n",
       "                        <th id=\"T_68ac2576_d389_11eb_98a6_000d3af525c4level0_row1\" class=\"row_heading level0 row1\" >5</th>\n",
       "                        <td id=\"T_68ac2576_d389_11eb_98a6_000d3af525c4row1_col0\" class=\"data row1 col0\" >1.03e+04</td>\n",
       "                        <td id=\"T_68ac2576_d389_11eb_98a6_000d3af525c4row1_col1\" class=\"data row1 col1\" >1.17e+04</td>\n",
       "                        <td id=\"T_68ac2576_d389_11eb_98a6_000d3af525c4row1_col2\" class=\"data row1 col2\" >0.193</td>\n",
       "                        <td id=\"T_68ac2576_d389_11eb_98a6_000d3af525c4row1_col3\" class=\"data row1 col3\" >0.203</td>\n",
       "            </tr>\n",
       "            <tr>\n",
       "                        <th id=\"T_68ac2576_d389_11eb_98a6_000d3af525c4level0_row2\" class=\"row_heading level0 row2\" >10</th>\n",
       "                        <td id=\"T_68ac2576_d389_11eb_98a6_000d3af525c4row2_col0\" class=\"data row2 col0\" >1.02e+04</td>\n",
       "                        <td id=\"T_68ac2576_d389_11eb_98a6_000d3af525c4row2_col1\" class=\"data row2 col1\" >1.13e+04</td>\n",
       "                        <td id=\"T_68ac2576_d389_11eb_98a6_000d3af525c4row2_col2\" class=\"data row2 col2\" >0.112</td>\n",
       "                        <td id=\"T_68ac2576_d389_11eb_98a6_000d3af525c4row2_col3\" class=\"data row2 col3\" >0.135</td>\n",
       "            </tr>\n",
       "            <tr>\n",
       "                        <th id=\"T_68ac2576_d389_11eb_98a6_000d3af525c4level0_row3\" class=\"row_heading level0 row3\" >15</th>\n",
       "                        <td id=\"T_68ac2576_d389_11eb_98a6_000d3af525c4row3_col0\" class=\"data row3 col0\" >9.98e+03</td>\n",
       "                        <td id=\"T_68ac2576_d389_11eb_98a6_000d3af525c4row3_col1\" class=\"data row3 col1\" >1.1e+04</td>\n",
       "                        <td id=\"T_68ac2576_d389_11eb_98a6_000d3af525c4row3_col2\" class=\"data row3 col2\" >0.0826</td>\n",
       "                        <td id=\"T_68ac2576_d389_11eb_98a6_000d3af525c4row3_col3\" class=\"data row3 col3\" >0.0998</td>\n",
       "            </tr>\n",
       "    </tbody></table>"
      ],
      "text/plain": [
       "<pandas.io.formats.style.Styler at 0x7f238520ec50>"
      ]
     },
     "metadata": {},
     "output_type": "display_data"
    },
    {
     "name": "stdout",
     "output_type": "stream",
     "text": [
      "[\u001b[1mtardis.simulation.base\u001b[0m][\u001b[1;37mINFO\u001b[0m   ]  \n",
      "\tCurrent t_inner = 11468.808 K\n",
      "\tExpected t_inner for next iteration = 9929.475 K\n",
      " (\u001b[1mbase.py\u001b[0m:458)\n"
     ]
    },
    {
     "name": "stdout",
     "output_type": "stream",
     "text": [
      "[\u001b[1mtardis.simulation.base\u001b[0m][\u001b[1;37mINFO\u001b[0m   ]  \n",
      "\tStarting iteration 3 of 5 (\u001b[1mbase.py\u001b[0m:325)\n"
     ]
    },
    {
     "name": "stdout",
     "output_type": "stream",
     "text": [
      "[\u001b[1mtardis.simulation.base\u001b[0m][\u001b[1;37mINFO\u001b[0m   ]  \n",
      "\tLuminosity emitted   = 8.259e+42 erg / s\n",
      "\tLuminosity absorbed  = 2.337e+42 erg / s\n",
      "\tLuminosity requested = 1.059e+43 erg / s\n",
      " (\u001b[1mbase.py\u001b[0m:463)\n"
     ]
    },
    {
     "name": "stdout",
     "output_type": "stream",
     "text": [
      "[\u001b[1mtardis.simulation.base\u001b[0m][\u001b[1;37mINFO\u001b[0m   ]  \n",
      "\tPlasma stratification: (\u001b[1mbase.py\u001b[0m:430)\n"
     ]
    },
    {
     "data": {
      "text/html": [
       "<style  type=\"text/css\" >\n",
       "</style><table id=\"T_68c299a0_d389_11eb_98a6_000d3af525c4\" ><thead>    <tr>        <th class=\"index_name level0\" >Shell No.</th>        <th class=\"col_heading level0 col0\" >t_rad</th>        <th class=\"col_heading level0 col1\" >next_t_rad</th>        <th class=\"col_heading level0 col2\" >w</th>        <th class=\"col_heading level0 col3\" >next_w</th>    </tr></thead><tbody>\n",
       "                <tr>\n",
       "                        <th id=\"T_68c299a0_d389_11eb_98a6_000d3af525c4level0_row0\" class=\"row_heading level0 row0\" >0</th>\n",
       "                        <td id=\"T_68c299a0_d389_11eb_98a6_000d3af525c4row0_col0\" class=\"data row0 col0\" >1.15e+04</td>\n",
       "                        <td id=\"T_68c299a0_d389_11eb_98a6_000d3af525c4row0_col1\" class=\"data row0 col1\" >1.03e+04</td>\n",
       "                        <td id=\"T_68c299a0_d389_11eb_98a6_000d3af525c4row0_col2\" class=\"data row0 col2\" >0.555</td>\n",
       "                        <td id=\"T_68c299a0_d389_11eb_98a6_000d3af525c4row0_col3\" class=\"data row0 col3\" >0.468</td>\n",
       "            </tr>\n",
       "            <tr>\n",
       "                        <th id=\"T_68c299a0_d389_11eb_98a6_000d3af525c4level0_row1\" class=\"row_heading level0 row1\" >5</th>\n",
       "                        <td id=\"T_68c299a0_d389_11eb_98a6_000d3af525c4row1_col0\" class=\"data row1 col0\" >1.17e+04</td>\n",
       "                        <td id=\"T_68c299a0_d389_11eb_98a6_000d3af525c4row1_col1\" class=\"data row1 col1\" >1.05e+04</td>\n",
       "                        <td id=\"T_68c299a0_d389_11eb_98a6_000d3af525c4row1_col2\" class=\"data row1 col2\" >0.203</td>\n",
       "                        <td id=\"T_68c299a0_d389_11eb_98a6_000d3af525c4row1_col3\" class=\"data row1 col3\" >0.181</td>\n",
       "            </tr>\n",
       "            <tr>\n",
       "                        <th id=\"T_68c299a0_d389_11eb_98a6_000d3af525c4level0_row2\" class=\"row_heading level0 row2\" >10</th>\n",
       "                        <td id=\"T_68c299a0_d389_11eb_98a6_000d3af525c4row2_col0\" class=\"data row2 col0\" >1.13e+04</td>\n",
       "                        <td id=\"T_68c299a0_d389_11eb_98a6_000d3af525c4row2_col1\" class=\"data row2 col1\" >1.05e+04</td>\n",
       "                        <td id=\"T_68c299a0_d389_11eb_98a6_000d3af525c4row2_col2\" class=\"data row2 col2\" >0.135</td>\n",
       "                        <td id=\"T_68c299a0_d389_11eb_98a6_000d3af525c4row2_col3\" class=\"data row2 col3\" >0.108</td>\n",
       "            </tr>\n",
       "            <tr>\n",
       "                        <th id=\"T_68c299a0_d389_11eb_98a6_000d3af525c4level0_row3\" class=\"row_heading level0 row3\" >15</th>\n",
       "                        <td id=\"T_68c299a0_d389_11eb_98a6_000d3af525c4row3_col0\" class=\"data row3 col0\" >1.1e+04</td>\n",
       "                        <td id=\"T_68c299a0_d389_11eb_98a6_000d3af525c4row3_col1\" class=\"data row3 col1\" >1.03e+04</td>\n",
       "                        <td id=\"T_68c299a0_d389_11eb_98a6_000d3af525c4row3_col2\" class=\"data row3 col2\" >0.0998</td>\n",
       "                        <td id=\"T_68c299a0_d389_11eb_98a6_000d3af525c4row3_col3\" class=\"data row3 col3\" >0.0779</td>\n",
       "            </tr>\n",
       "    </tbody></table>"
      ],
      "text/plain": [
       "<pandas.io.formats.style.Styler at 0x7f238595b590>"
      ]
     },
     "metadata": {},
     "output_type": "display_data"
    },
    {
     "name": "stdout",
     "output_type": "stream",
     "text": [
      "[\u001b[1mtardis.simulation.base\u001b[0m][\u001b[1;37mINFO\u001b[0m   ]  \n",
      "\tCurrent t_inner = 9929.475 K\n",
      "\tExpected t_inner for next iteration = 11245.497 K\n",
      " (\u001b[1mbase.py\u001b[0m:458)\n"
     ]
    },
    {
     "name": "stdout",
     "output_type": "stream",
     "text": [
      "[\u001b[1mtardis.simulation.base\u001b[0m][\u001b[1;37mINFO\u001b[0m   ]  \n",
      "\tStarting iteration 4 of 5 (\u001b[1mbase.py\u001b[0m:325)\n"
     ]
    },
    {
     "name": "stdout",
     "output_type": "stream",
     "text": [
      "[\u001b[1mtardis.simulation.base\u001b[0m][\u001b[1;37mINFO\u001b[0m   ]  \n",
      "\tLuminosity emitted   = 1.299e+43 erg / s\n",
      "\tLuminosity absorbed  = 4.407e+42 erg / s\n",
      "\tLuminosity requested = 1.059e+43 erg / s\n",
      " (\u001b[1mbase.py\u001b[0m:463)\n"
     ]
    },
    {
     "name": "stdout",
     "output_type": "stream",
     "text": [
      "[\u001b[1mtardis.simulation.base\u001b[0m][\u001b[1;37mINFO\u001b[0m   ]  \n",
      "\tPlasma stratification: (\u001b[1mbase.py\u001b[0m:430)\n"
     ]
    },
    {
     "data": {
      "text/html": [
       "<style  type=\"text/css\" >\n",
       "</style><table id=\"T_68d7eef4_d389_11eb_98a6_000d3af525c4\" ><thead>    <tr>        <th class=\"index_name level0\" >Shell No.</th>        <th class=\"col_heading level0 col0\" >t_rad</th>        <th class=\"col_heading level0 col1\" >next_t_rad</th>        <th class=\"col_heading level0 col2\" >w</th>        <th class=\"col_heading level0 col3\" >next_w</th>    </tr></thead><tbody>\n",
       "                <tr>\n",
       "                        <th id=\"T_68d7eef4_d389_11eb_98a6_000d3af525c4level0_row0\" class=\"row_heading level0 row0\" >0</th>\n",
       "                        <td id=\"T_68d7eef4_d389_11eb_98a6_000d3af525c4row0_col0\" class=\"data row0 col0\" >1.03e+04</td>\n",
       "                        <td id=\"T_68d7eef4_d389_11eb_98a6_000d3af525c4row0_col1\" class=\"data row0 col1\" >1.14e+04</td>\n",
       "                        <td id=\"T_68d7eef4_d389_11eb_98a6_000d3af525c4row0_col2\" class=\"data row0 col2\" >0.468</td>\n",
       "                        <td id=\"T_68d7eef4_d389_11eb_98a6_000d3af525c4row0_col3\" class=\"data row0 col3\" >0.527</td>\n",
       "            </tr>\n",
       "            <tr>\n",
       "                        <th id=\"T_68d7eef4_d389_11eb_98a6_000d3af525c4level0_row1\" class=\"row_heading level0 row1\" >5</th>\n",
       "                        <td id=\"T_68d7eef4_d389_11eb_98a6_000d3af525c4row1_col0\" class=\"data row1 col0\" >1.05e+04</td>\n",
       "                        <td id=\"T_68d7eef4_d389_11eb_98a6_000d3af525c4row1_col1\" class=\"data row1 col1\" >1.13e+04</td>\n",
       "                        <td id=\"T_68d7eef4_d389_11eb_98a6_000d3af525c4row1_col2\" class=\"data row1 col2\" >0.181</td>\n",
       "                        <td id=\"T_68d7eef4_d389_11eb_98a6_000d3af525c4row1_col3\" class=\"data row1 col3\" >0.225</td>\n",
       "            </tr>\n",
       "            <tr>\n",
       "                        <th id=\"T_68d7eef4_d389_11eb_98a6_000d3af525c4level0_row2\" class=\"row_heading level0 row2\" >10</th>\n",
       "                        <td id=\"T_68d7eef4_d389_11eb_98a6_000d3af525c4row2_col0\" class=\"data row2 col0\" >1.05e+04</td>\n",
       "                        <td id=\"T_68d7eef4_d389_11eb_98a6_000d3af525c4row2_col1\" class=\"data row2 col1\" >1.12e+04</td>\n",
       "                        <td id=\"T_68d7eef4_d389_11eb_98a6_000d3af525c4row2_col2\" class=\"data row2 col2\" >0.108</td>\n",
       "                        <td id=\"T_68d7eef4_d389_11eb_98a6_000d3af525c4row2_col3\" class=\"data row2 col3\" >0.126</td>\n",
       "            </tr>\n",
       "            <tr>\n",
       "                        <th id=\"T_68d7eef4_d389_11eb_98a6_000d3af525c4level0_row3\" class=\"row_heading level0 row3\" >15</th>\n",
       "                        <td id=\"T_68d7eef4_d389_11eb_98a6_000d3af525c4row3_col0\" class=\"data row3 col0\" >1.03e+04</td>\n",
       "                        <td id=\"T_68d7eef4_d389_11eb_98a6_000d3af525c4row3_col1\" class=\"data row3 col1\" >1.1e+04</td>\n",
       "                        <td id=\"T_68d7eef4_d389_11eb_98a6_000d3af525c4row3_col2\" class=\"data row3 col2\" >0.0779</td>\n",
       "                        <td id=\"T_68d7eef4_d389_11eb_98a6_000d3af525c4row3_col3\" class=\"data row3 col3\" >0.0926</td>\n",
       "            </tr>\n",
       "    </tbody></table>"
      ],
      "text/plain": [
       "<pandas.io.formats.style.Styler at 0x7f2384aca410>"
      ]
     },
     "metadata": {},
     "output_type": "display_data"
    },
    {
     "name": "stdout",
     "output_type": "stream",
     "text": [
      "[\u001b[1mtardis.simulation.base\u001b[0m][\u001b[1;37mINFO\u001b[0m   ]  \n",
      "\tCurrent t_inner = 11245.497 K\n",
      "\tExpected t_inner for next iteration = 10153.431 K\n",
      " (\u001b[1mbase.py\u001b[0m:458)\n"
     ]
    },
    {
     "name": "stdout",
     "output_type": "stream",
     "text": [
      "[\u001b[1mtardis.simulation.base\u001b[0m][\u001b[1;37mINFO\u001b[0m   ]  \n",
      "\tStarting iteration 5 of 5 (\u001b[1mbase.py\u001b[0m:325)\n"
     ]
    },
    {
     "name": "stdout",
     "output_type": "stream",
     "text": [
      "[\u001b[1mtardis.simulation.base\u001b[0m][\u001b[1;37mINFO\u001b[0m   ]  \n",
      "\tLuminosity emitted   = 8.742e+42 erg / s\n",
      "\tLuminosity absorbed  = 2.834e+42 erg / s\n",
      "\tLuminosity requested = 1.059e+43 erg / s\n",
      " (\u001b[1mbase.py\u001b[0m:463)\n"
     ]
    },
    {
     "name": "stdout",
     "output_type": "stream",
     "text": [
      "[\u001b[1mtardis.simulation.base\u001b[0m][\u001b[1;37mINFO\u001b[0m   ]  \n",
      "\tSimulation finished in 5 iterations \n",
      "\tSimulation took 1.43 s\n",
      " (\u001b[1mbase.py\u001b[0m:384)\n"
     ]
    }
   ],
   "source": [
    "sim = run_tardis(\"tardis_config_logger.yml\", log_state=\"Info\")"
   ]
  },
  {
   "cell_type": "markdown",
   "id": "52e778bc",
   "metadata": {},
   "source": [
    "By setting up the `log_state` parameter to **\"Info\"** in the above example, we can check that the logs are at the **\"Info\"** or higher logging level. "
   ]
  },
  {
   "cell_type": "markdown",
   "id": "25277fe8",
   "metadata": {},
   "source": [
    "### `specific`"
   ]
  },
  {
   "cell_type": "markdown",
   "id": "56a5ef36",
   "metadata": {},
   "source": [
    "The `specific` argument tells the logger to capture log messages set by the `log_state` parameter. It can only take *Boolean* values for input, which are `True` or `False`. Take for example the following:"
   ]
  },
  {
   "cell_type": "code",
   "execution_count": 5,
   "id": "a0df43d1",
   "metadata": {
    "execution": {
     "iopub.execute_input": "2021-06-22T18:41:09.257841Z",
     "iopub.status.busy": "2021-06-22T18:41:09.246682Z",
     "iopub.status.idle": "2021-06-22T18:41:12.709365Z",
     "shell.execute_reply": "2021-06-22T18:41:12.708466Z"
    },
    "scrolled": false
   },
   "outputs": [
    {
     "name": "stdout",
     "output_type": "stream",
     "text": [
      "[\u001b[1mtardis.plasma.base  \u001b[0m][\u001b[1;34mDEBUG\u001b[0m  ]  Updating modules in the following order: SelectedAtoms->IonizationData->AtomicMass->NumberDensity->Lines->Levels->LinesUpperLevelIndex->LinesLowerLevelIndex->JBluesDiluteBlackBody->ElectronTemperature->BetaRadiation->LevelBoltzmannFactorLTE->LevelBoltzmannFactorNoNLTE->PartitionFunction->GElectron->PhiSahaLTE->IonNumberDensity->LevelNumberDensity->StimulatedEmissionFactor->TauSobolev->BetaSobolev->TransitionProbabilities (\u001b[1mbase.py\u001b[0m:267)\n"
     ]
    },
    {
     "name": "stdout",
     "output_type": "stream",
     "text": [
      "[\u001b[1mtardis.plasma.base  \u001b[0m][\u001b[1;34mDEBUG\u001b[0m  ]  Updating modules in the following order: SelectedAtoms->IonizationData->AtomicMass->NumberDensity->Lines->Levels->LinesUpperLevelIndex->LinesLowerLevelIndex->JBluesDiluteBlackBody->ElectronTemperature->BetaRadiation->LevelBoltzmannFactorLTE->LevelBoltzmannFactorNoNLTE->PartitionFunction->GElectron->PhiSahaLTE->IonNumberDensity->LevelNumberDensity->StimulatedEmissionFactor->TauSobolev->BetaSobolev->TransitionProbabilities (\u001b[1mbase.py\u001b[0m:267)\n"
     ]
    },
    {
     "name": "stdout",
     "output_type": "stream",
     "text": [
      "[\u001b[1mtardis.montecarlo.base\u001b[0m][\u001b[1;34mDEBUG\u001b[0m  ]  Electron scattering switched on (\u001b[1mbase.py\u001b[0m:576)\n"
     ]
    },
    {
     "name": "stdout",
     "output_type": "stream",
     "text": [
      "[\u001b[1mtardis.plasma.base  \u001b[0m][\u001b[1;34mDEBUG\u001b[0m  ]  Updating modules in the following order: JBluesDiluteBlackBody->ElectronTemperature->BetaRadiation->LevelBoltzmannFactorLTE->LevelBoltzmannFactorNoNLTE->PartitionFunction->GElectron->PhiSahaLTE->IonNumberDensity->LevelNumberDensity->StimulatedEmissionFactor->TauSobolev->BetaSobolev->TransitionProbabilities (\u001b[1mbase.py\u001b[0m:267)\n"
     ]
    },
    {
     "name": "stdout",
     "output_type": "stream",
     "text": [
      "[\u001b[1mtardis.plasma.base  \u001b[0m][\u001b[1;34mDEBUG\u001b[0m  ]  Updating modules in the following order: JBluesDiluteBlackBody->ElectronTemperature->BetaRadiation->LevelBoltzmannFactorLTE->LevelBoltzmannFactorNoNLTE->PartitionFunction->GElectron->PhiSahaLTE->IonNumberDensity->LevelNumberDensity->StimulatedEmissionFactor->TauSobolev->BetaSobolev->TransitionProbabilities (\u001b[1mbase.py\u001b[0m:267)\n"
     ]
    },
    {
     "name": "stdout",
     "output_type": "stream",
     "text": [
      "[\u001b[1mtardis.plasma.base  \u001b[0m][\u001b[1;34mDEBUG\u001b[0m  ]  Updating modules in the following order: JBluesDiluteBlackBody->ElectronTemperature->BetaRadiation->LevelBoltzmannFactorLTE->LevelBoltzmannFactorNoNLTE->PartitionFunction->GElectron->PhiSahaLTE->IonNumberDensity->LevelNumberDensity->StimulatedEmissionFactor->TauSobolev->BetaSobolev->TransitionProbabilities (\u001b[1mbase.py\u001b[0m:267)\n"
     ]
    },
    {
     "name": "stdout",
     "output_type": "stream",
     "text": [
      "[\u001b[1mtardis.plasma.base  \u001b[0m][\u001b[1;34mDEBUG\u001b[0m  ]  Updating modules in the following order: JBluesDiluteBlackBody->ElectronTemperature->BetaRadiation->LevelBoltzmannFactorLTE->LevelBoltzmannFactorNoNLTE->PartitionFunction->GElectron->PhiSahaLTE->IonNumberDensity->LevelNumberDensity->StimulatedEmissionFactor->TauSobolev->BetaSobolev->TransitionProbabilities (\u001b[1mbase.py\u001b[0m:267)\n"
     ]
    }
   ],
   "source": [
    "sim = run_tardis(\"tardis_config_logger.yml\", log_state=\"Debug\", specific=True)"
   ]
  },
  {
   "cell_type": "markdown",
   "id": "5c6ff57c",
   "metadata": {},
   "source": [
    "It can be examined that, when we set `specific` to `True`, the log messages captured were only at the `DEBUG` log level.<br> This allows for logging only specified logging messages for inspection."
   ]
  },
  {
   "cell_type": "markdown",
   "id": "5083321b",
   "metadata": {},
   "source": [
    "The changes in the captured log messages can be seen when we set `specific` to `False`."
   ]
  },
  {
   "cell_type": "code",
   "execution_count": 6,
   "id": "566919b3",
   "metadata": {
    "execution": {
     "iopub.execute_input": "2021-06-22T18:41:12.718095Z",
     "iopub.status.busy": "2021-06-22T18:41:12.717510Z",
     "iopub.status.idle": "2021-06-22T18:41:16.372689Z",
     "shell.execute_reply": "2021-06-22T18:41:16.371856Z"
    },
    "scrolled": false
   },
   "outputs": [
    {
     "name": "stdout",
     "output_type": "stream",
     "text": [
      "[\u001b[1mtardis.plasma.standard_plasmas\u001b[0m][\u001b[1;37mINFO\u001b[0m   ]  \n",
      "\tReading Atomic Data from kurucz_cd23_chianti_H_He.h5 (\u001b[1mstandard_plasmas.py\u001b[0m:91)\n"
     ]
    },
    {
     "name": "stdout",
     "output_type": "stream",
     "text": [
      "[\u001b[1mtardis.io.atom_data.util\u001b[0m][\u001b[1;37mINFO\u001b[0m   ]  \n",
      "\tAtom Data kurucz_cd23_chianti_H_He.h5 not found in local path.\n",
      "\tExists in TARDIS Data repo /home/runner/Downloads/tardis-data/kurucz_cd23_chianti_H_He.h5 (\u001b[1mutil.py\u001b[0m:34)\n"
     ]
    },
    {
     "name": "stdout",
     "output_type": "stream",
     "text": [
      "[\u001b[1mtardis.io.atom_data.base\u001b[0m][\u001b[1;37mINFO\u001b[0m   ]  \n",
      "\tReading Atom Data with:\n",
      "\tUUID = 6f7b09e887a311e7a06b246e96350010\n",
      "\tMD5  = 864f1753714343c41f99cb065710cace  (\u001b[1mbase.py\u001b[0m:189)\n"
     ]
    },
    {
     "name": "stdout",
     "output_type": "stream",
     "text": [
      "[\u001b[1mtardis.io.atom_data.base\u001b[0m][\u001b[1;37mINFO\u001b[0m   ]  \n",
      "\tNon provided atomic data:\n",
      "\tsynpp_refs, photoionization_data, yg_data, two_photon_data (\u001b[1mbase.py\u001b[0m:193)\n"
     ]
    },
    {
     "name": "stdout",
     "output_type": "stream",
     "text": [
      "[\u001b[1mtardis.plasma.base  \u001b[0m][\u001b[1;34mDEBUG\u001b[0m  ]  Updating modules in the following order: SelectedAtoms->IonizationData->AtomicMass->NumberDensity->Lines->Levels->LinesUpperLevelIndex->LinesLowerLevelIndex->JBluesDiluteBlackBody->ElectronTemperature->BetaRadiation->LevelBoltzmannFactorLTE->LevelBoltzmannFactorNoNLTE->PartitionFunction->GElectron->PhiSahaLTE->IonNumberDensity->LevelNumberDensity->StimulatedEmissionFactor->TauSobolev->BetaSobolev->TransitionProbabilities (\u001b[1mbase.py\u001b[0m:267)\n"
     ]
    },
    {
     "name": "stdout",
     "output_type": "stream",
     "text": [
      "[\u001b[1mtardis.plasma.base  \u001b[0m][\u001b[1;34mDEBUG\u001b[0m  ]  Updating modules in the following order: SelectedAtoms->IonizationData->AtomicMass->NumberDensity->Lines->Levels->LinesUpperLevelIndex->LinesLowerLevelIndex->JBluesDiluteBlackBody->ElectronTemperature->BetaRadiation->LevelBoltzmannFactorLTE->LevelBoltzmannFactorNoNLTE->PartitionFunction->GElectron->PhiSahaLTE->IonNumberDensity->LevelNumberDensity->StimulatedEmissionFactor->TauSobolev->BetaSobolev->TransitionProbabilities (\u001b[1mbase.py\u001b[0m:267)\n"
     ]
    },
    {
     "name": "stdout",
     "output_type": "stream",
     "text": [
      "[\u001b[1mtardis.montecarlo.base\u001b[0m][\u001b[1;34mDEBUG\u001b[0m  ]  Electron scattering switched on (\u001b[1mbase.py\u001b[0m:576)\n"
     ]
    },
    {
     "name": "stdout",
     "output_type": "stream",
     "text": [
      "[\u001b[1mtardis.simulation.base\u001b[0m][\u001b[1;37mINFO\u001b[0m   ]  \n",
      "\tStarting iteration 1 of 5 (\u001b[1mbase.py\u001b[0m:325)\n"
     ]
    },
    {
     "name": "stdout",
     "output_type": "stream",
     "text": [
      "[\u001b[1mtardis.simulation.base\u001b[0m][\u001b[1;37mINFO\u001b[0m   ]  \n",
      "\tLuminosity emitted   = 7.947e+42 erg / s\n",
      "\tLuminosity absorbed  = 2.654e+42 erg / s\n",
      "\tLuminosity requested = 1.059e+43 erg / s\n",
      " (\u001b[1mbase.py\u001b[0m:463)\n"
     ]
    },
    {
     "name": "stdout",
     "output_type": "stream",
     "text": [
      "[\u001b[1mtardis.simulation.base\u001b[0m][\u001b[1;37mINFO\u001b[0m   ]  \n",
      "\tPlasma stratification: (\u001b[1mbase.py\u001b[0m:430)\n"
     ]
    },
    {
     "data": {
      "text/html": [
       "<style  type=\"text/css\" >\n",
       "</style><table id=\"T_6ccc3df8_d389_11eb_98a6_000d3af525c4\" ><thead>    <tr>        <th class=\"index_name level0\" >Shell No.</th>        <th class=\"col_heading level0 col0\" >t_rad</th>        <th class=\"col_heading level0 col1\" >next_t_rad</th>        <th class=\"col_heading level0 col2\" >w</th>        <th class=\"col_heading level0 col3\" >next_w</th>    </tr></thead><tbody>\n",
       "                <tr>\n",
       "                        <th id=\"T_6ccc3df8_d389_11eb_98a6_000d3af525c4level0_row0\" class=\"row_heading level0 row0\" >0</th>\n",
       "                        <td id=\"T_6ccc3df8_d389_11eb_98a6_000d3af525c4row0_col0\" class=\"data row0 col0\" >9.93e+03</td>\n",
       "                        <td id=\"T_6ccc3df8_d389_11eb_98a6_000d3af525c4row0_col1\" class=\"data row0 col1\" >1.03e+04</td>\n",
       "                        <td id=\"T_6ccc3df8_d389_11eb_98a6_000d3af525c4row0_col2\" class=\"data row0 col2\" >0.4</td>\n",
       "                        <td id=\"T_6ccc3df8_d389_11eb_98a6_000d3af525c4row0_col3\" class=\"data row0 col3\" >0.481</td>\n",
       "            </tr>\n",
       "            <tr>\n",
       "                        <th id=\"T_6ccc3df8_d389_11eb_98a6_000d3af525c4level0_row1\" class=\"row_heading level0 row1\" >5</th>\n",
       "                        <td id=\"T_6ccc3df8_d389_11eb_98a6_000d3af525c4row1_col0\" class=\"data row1 col0\" >9.85e+03</td>\n",
       "                        <td id=\"T_6ccc3df8_d389_11eb_98a6_000d3af525c4row1_col1\" class=\"data row1 col1\" >1.03e+04</td>\n",
       "                        <td id=\"T_6ccc3df8_d389_11eb_98a6_000d3af525c4row1_col2\" class=\"data row1 col2\" >0.211</td>\n",
       "                        <td id=\"T_6ccc3df8_d389_11eb_98a6_000d3af525c4row1_col3\" class=\"data row1 col3\" >0.193</td>\n",
       "            </tr>\n",
       "            <tr>\n",
       "                        <th id=\"T_6ccc3df8_d389_11eb_98a6_000d3af525c4level0_row2\" class=\"row_heading level0 row2\" >10</th>\n",
       "                        <td id=\"T_6ccc3df8_d389_11eb_98a6_000d3af525c4row2_col0\" class=\"data row2 col0\" >9.78e+03</td>\n",
       "                        <td id=\"T_6ccc3df8_d389_11eb_98a6_000d3af525c4row2_col1\" class=\"data row2 col1\" >1.02e+04</td>\n",
       "                        <td id=\"T_6ccc3df8_d389_11eb_98a6_000d3af525c4row2_col2\" class=\"data row2 col2\" >0.143</td>\n",
       "                        <td id=\"T_6ccc3df8_d389_11eb_98a6_000d3af525c4row2_col3\" class=\"data row2 col3\" >0.112</td>\n",
       "            </tr>\n",
       "            <tr>\n",
       "                        <th id=\"T_6ccc3df8_d389_11eb_98a6_000d3af525c4level0_row3\" class=\"row_heading level0 row3\" >15</th>\n",
       "                        <td id=\"T_6ccc3df8_d389_11eb_98a6_000d3af525c4row3_col0\" class=\"data row3 col0\" >9.71e+03</td>\n",
       "                        <td id=\"T_6ccc3df8_d389_11eb_98a6_000d3af525c4row3_col1\" class=\"data row3 col1\" >9.98e+03</td>\n",
       "                        <td id=\"T_6ccc3df8_d389_11eb_98a6_000d3af525c4row3_col2\" class=\"data row3 col2\" >0.105</td>\n",
       "                        <td id=\"T_6ccc3df8_d389_11eb_98a6_000d3af525c4row3_col3\" class=\"data row3 col3\" >0.0826</td>\n",
       "            </tr>\n",
       "    </tbody></table>"
      ],
      "text/plain": [
       "<pandas.io.formats.style.Styler at 0x7f2385e4b5d0>"
      ]
     },
     "metadata": {},
     "output_type": "display_data"
    },
    {
     "name": "stdout",
     "output_type": "stream",
     "text": [
      "[\u001b[1mtardis.simulation.base\u001b[0m][\u001b[1;37mINFO\u001b[0m   ]  \n",
      "\tCurrent t_inner = 9933.952 K\n",
      "\tExpected t_inner for next iteration = 11468.808 K\n",
      " (\u001b[1mbase.py\u001b[0m:458)\n"
     ]
    },
    {
     "name": "stdout",
     "output_type": "stream",
     "text": [
      "[\u001b[1mtardis.plasma.base  \u001b[0m][\u001b[1;34mDEBUG\u001b[0m  ]  Updating modules in the following order: JBluesDiluteBlackBody->ElectronTemperature->BetaRadiation->LevelBoltzmannFactorLTE->LevelBoltzmannFactorNoNLTE->PartitionFunction->GElectron->PhiSahaLTE->IonNumberDensity->LevelNumberDensity->StimulatedEmissionFactor->TauSobolev->BetaSobolev->TransitionProbabilities (\u001b[1mbase.py\u001b[0m:267)\n"
     ]
    },
    {
     "name": "stdout",
     "output_type": "stream",
     "text": [
      "[\u001b[1mtardis.simulation.base\u001b[0m][\u001b[1;37mINFO\u001b[0m   ]  \n",
      "\tStarting iteration 2 of 5 (\u001b[1mbase.py\u001b[0m:325)\n"
     ]
    },
    {
     "name": "stdout",
     "output_type": "stream",
     "text": [
      "[\u001b[1mtardis.simulation.base\u001b[0m][\u001b[1;37mINFO\u001b[0m   ]  \n",
      "\tLuminosity emitted   = 1.413e+43 erg / s\n",
      "\tLuminosity absorbed  = 4.704e+42 erg / s\n",
      "\tLuminosity requested = 1.059e+43 erg / s\n",
      " (\u001b[1mbase.py\u001b[0m:463)\n"
     ]
    },
    {
     "name": "stdout",
     "output_type": "stream",
     "text": [
      "[\u001b[1mtardis.simulation.base\u001b[0m][\u001b[1;37mINFO\u001b[0m   ]  \n",
      "\tPlasma stratification: (\u001b[1mbase.py\u001b[0m:430)\n"
     ]
    },
    {
     "data": {
      "text/html": [
       "<style  type=\"text/css\" >\n",
       "</style><table id=\"T_6ce1ce34_d389_11eb_98a6_000d3af525c4\" ><thead>    <tr>        <th class=\"index_name level0\" >Shell No.</th>        <th class=\"col_heading level0 col0\" >t_rad</th>        <th class=\"col_heading level0 col1\" >next_t_rad</th>        <th class=\"col_heading level0 col2\" >w</th>        <th class=\"col_heading level0 col3\" >next_w</th>    </tr></thead><tbody>\n",
       "                <tr>\n",
       "                        <th id=\"T_6ce1ce34_d389_11eb_98a6_000d3af525c4level0_row0\" class=\"row_heading level0 row0\" >0</th>\n",
       "                        <td id=\"T_6ce1ce34_d389_11eb_98a6_000d3af525c4row0_col0\" class=\"data row0 col0\" >1.03e+04</td>\n",
       "                        <td id=\"T_6ce1ce34_d389_11eb_98a6_000d3af525c4row0_col1\" class=\"data row0 col1\" >1.15e+04</td>\n",
       "                        <td id=\"T_6ce1ce34_d389_11eb_98a6_000d3af525c4row0_col2\" class=\"data row0 col2\" >0.481</td>\n",
       "                        <td id=\"T_6ce1ce34_d389_11eb_98a6_000d3af525c4row0_col3\" class=\"data row0 col3\" >0.555</td>\n",
       "            </tr>\n",
       "            <tr>\n",
       "                        <th id=\"T_6ce1ce34_d389_11eb_98a6_000d3af525c4level0_row1\" class=\"row_heading level0 row1\" >5</th>\n",
       "                        <td id=\"T_6ce1ce34_d389_11eb_98a6_000d3af525c4row1_col0\" class=\"data row1 col0\" >1.03e+04</td>\n",
       "                        <td id=\"T_6ce1ce34_d389_11eb_98a6_000d3af525c4row1_col1\" class=\"data row1 col1\" >1.17e+04</td>\n",
       "                        <td id=\"T_6ce1ce34_d389_11eb_98a6_000d3af525c4row1_col2\" class=\"data row1 col2\" >0.193</td>\n",
       "                        <td id=\"T_6ce1ce34_d389_11eb_98a6_000d3af525c4row1_col3\" class=\"data row1 col3\" >0.203</td>\n",
       "            </tr>\n",
       "            <tr>\n",
       "                        <th id=\"T_6ce1ce34_d389_11eb_98a6_000d3af525c4level0_row2\" class=\"row_heading level0 row2\" >10</th>\n",
       "                        <td id=\"T_6ce1ce34_d389_11eb_98a6_000d3af525c4row2_col0\" class=\"data row2 col0\" >1.02e+04</td>\n",
       "                        <td id=\"T_6ce1ce34_d389_11eb_98a6_000d3af525c4row2_col1\" class=\"data row2 col1\" >1.13e+04</td>\n",
       "                        <td id=\"T_6ce1ce34_d389_11eb_98a6_000d3af525c4row2_col2\" class=\"data row2 col2\" >0.112</td>\n",
       "                        <td id=\"T_6ce1ce34_d389_11eb_98a6_000d3af525c4row2_col3\" class=\"data row2 col3\" >0.135</td>\n",
       "            </tr>\n",
       "            <tr>\n",
       "                        <th id=\"T_6ce1ce34_d389_11eb_98a6_000d3af525c4level0_row3\" class=\"row_heading level0 row3\" >15</th>\n",
       "                        <td id=\"T_6ce1ce34_d389_11eb_98a6_000d3af525c4row3_col0\" class=\"data row3 col0\" >9.98e+03</td>\n",
       "                        <td id=\"T_6ce1ce34_d389_11eb_98a6_000d3af525c4row3_col1\" class=\"data row3 col1\" >1.1e+04</td>\n",
       "                        <td id=\"T_6ce1ce34_d389_11eb_98a6_000d3af525c4row3_col2\" class=\"data row3 col2\" >0.0826</td>\n",
       "                        <td id=\"T_6ce1ce34_d389_11eb_98a6_000d3af525c4row3_col3\" class=\"data row3 col3\" >0.0998</td>\n",
       "            </tr>\n",
       "    </tbody></table>"
      ],
      "text/plain": [
       "<pandas.io.formats.style.Styler at 0x7f2385e4bc50>"
      ]
     },
     "metadata": {},
     "output_type": "display_data"
    },
    {
     "name": "stdout",
     "output_type": "stream",
     "text": [
      "[\u001b[1mtardis.simulation.base\u001b[0m][\u001b[1;37mINFO\u001b[0m   ]  \n",
      "\tCurrent t_inner = 11468.808 K\n",
      "\tExpected t_inner for next iteration = 9929.475 K\n",
      " (\u001b[1mbase.py\u001b[0m:458)\n"
     ]
    },
    {
     "name": "stdout",
     "output_type": "stream",
     "text": [
      "[\u001b[1mtardis.plasma.base  \u001b[0m][\u001b[1;34mDEBUG\u001b[0m  ]  Updating modules in the following order: JBluesDiluteBlackBody->ElectronTemperature->BetaRadiation->LevelBoltzmannFactorLTE->LevelBoltzmannFactorNoNLTE->PartitionFunction->GElectron->PhiSahaLTE->IonNumberDensity->LevelNumberDensity->StimulatedEmissionFactor->TauSobolev->BetaSobolev->TransitionProbabilities (\u001b[1mbase.py\u001b[0m:267)\n"
     ]
    },
    {
     "name": "stdout",
     "output_type": "stream",
     "text": [
      "[\u001b[1mtardis.simulation.base\u001b[0m][\u001b[1;37mINFO\u001b[0m   ]  \n",
      "\tStarting iteration 3 of 5 (\u001b[1mbase.py\u001b[0m:325)\n"
     ]
    },
    {
     "name": "stdout",
     "output_type": "stream",
     "text": [
      "[\u001b[1mtardis.simulation.base\u001b[0m][\u001b[1;37mINFO\u001b[0m   ]  \n",
      "\tLuminosity emitted   = 8.259e+42 erg / s\n",
      "\tLuminosity absorbed  = 2.337e+42 erg / s\n",
      "\tLuminosity requested = 1.059e+43 erg / s\n",
      " (\u001b[1mbase.py\u001b[0m:463)\n"
     ]
    },
    {
     "name": "stdout",
     "output_type": "stream",
     "text": [
      "[\u001b[1mtardis.simulation.base\u001b[0m][\u001b[1;37mINFO\u001b[0m   ]  \n",
      "\tPlasma stratification: (\u001b[1mbase.py\u001b[0m:430)\n"
     ]
    },
    {
     "data": {
      "text/html": [
       "<style  type=\"text/css\" >\n",
       "</style><table id=\"T_6cf74444_d389_11eb_98a6_000d3af525c4\" ><thead>    <tr>        <th class=\"index_name level0\" >Shell No.</th>        <th class=\"col_heading level0 col0\" >t_rad</th>        <th class=\"col_heading level0 col1\" >next_t_rad</th>        <th class=\"col_heading level0 col2\" >w</th>        <th class=\"col_heading level0 col3\" >next_w</th>    </tr></thead><tbody>\n",
       "                <tr>\n",
       "                        <th id=\"T_6cf74444_d389_11eb_98a6_000d3af525c4level0_row0\" class=\"row_heading level0 row0\" >0</th>\n",
       "                        <td id=\"T_6cf74444_d389_11eb_98a6_000d3af525c4row0_col0\" class=\"data row0 col0\" >1.15e+04</td>\n",
       "                        <td id=\"T_6cf74444_d389_11eb_98a6_000d3af525c4row0_col1\" class=\"data row0 col1\" >1.03e+04</td>\n",
       "                        <td id=\"T_6cf74444_d389_11eb_98a6_000d3af525c4row0_col2\" class=\"data row0 col2\" >0.555</td>\n",
       "                        <td id=\"T_6cf74444_d389_11eb_98a6_000d3af525c4row0_col3\" class=\"data row0 col3\" >0.468</td>\n",
       "            </tr>\n",
       "            <tr>\n",
       "                        <th id=\"T_6cf74444_d389_11eb_98a6_000d3af525c4level0_row1\" class=\"row_heading level0 row1\" >5</th>\n",
       "                        <td id=\"T_6cf74444_d389_11eb_98a6_000d3af525c4row1_col0\" class=\"data row1 col0\" >1.17e+04</td>\n",
       "                        <td id=\"T_6cf74444_d389_11eb_98a6_000d3af525c4row1_col1\" class=\"data row1 col1\" >1.05e+04</td>\n",
       "                        <td id=\"T_6cf74444_d389_11eb_98a6_000d3af525c4row1_col2\" class=\"data row1 col2\" >0.203</td>\n",
       "                        <td id=\"T_6cf74444_d389_11eb_98a6_000d3af525c4row1_col3\" class=\"data row1 col3\" >0.181</td>\n",
       "            </tr>\n",
       "            <tr>\n",
       "                        <th id=\"T_6cf74444_d389_11eb_98a6_000d3af525c4level0_row2\" class=\"row_heading level0 row2\" >10</th>\n",
       "                        <td id=\"T_6cf74444_d389_11eb_98a6_000d3af525c4row2_col0\" class=\"data row2 col0\" >1.13e+04</td>\n",
       "                        <td id=\"T_6cf74444_d389_11eb_98a6_000d3af525c4row2_col1\" class=\"data row2 col1\" >1.05e+04</td>\n",
       "                        <td id=\"T_6cf74444_d389_11eb_98a6_000d3af525c4row2_col2\" class=\"data row2 col2\" >0.135</td>\n",
       "                        <td id=\"T_6cf74444_d389_11eb_98a6_000d3af525c4row2_col3\" class=\"data row2 col3\" >0.108</td>\n",
       "            </tr>\n",
       "            <tr>\n",
       "                        <th id=\"T_6cf74444_d389_11eb_98a6_000d3af525c4level0_row3\" class=\"row_heading level0 row3\" >15</th>\n",
       "                        <td id=\"T_6cf74444_d389_11eb_98a6_000d3af525c4row3_col0\" class=\"data row3 col0\" >1.1e+04</td>\n",
       "                        <td id=\"T_6cf74444_d389_11eb_98a6_000d3af525c4row3_col1\" class=\"data row3 col1\" >1.03e+04</td>\n",
       "                        <td id=\"T_6cf74444_d389_11eb_98a6_000d3af525c4row3_col2\" class=\"data row3 col2\" >0.0998</td>\n",
       "                        <td id=\"T_6cf74444_d389_11eb_98a6_000d3af525c4row3_col3\" class=\"data row3 col3\" >0.0779</td>\n",
       "            </tr>\n",
       "    </tbody></table>"
      ],
      "text/plain": [
       "<pandas.io.formats.style.Styler at 0x7f238445dd10>"
      ]
     },
     "metadata": {},
     "output_type": "display_data"
    },
    {
     "name": "stdout",
     "output_type": "stream",
     "text": [
      "[\u001b[1mtardis.simulation.base\u001b[0m][\u001b[1;37mINFO\u001b[0m   ]  \n",
      "\tCurrent t_inner = 9929.475 K\n",
      "\tExpected t_inner for next iteration = 11245.497 K\n",
      " (\u001b[1mbase.py\u001b[0m:458)\n"
     ]
    },
    {
     "name": "stdout",
     "output_type": "stream",
     "text": [
      "[\u001b[1mtardis.plasma.base  \u001b[0m][\u001b[1;34mDEBUG\u001b[0m  ]  Updating modules in the following order: JBluesDiluteBlackBody->ElectronTemperature->BetaRadiation->LevelBoltzmannFactorLTE->LevelBoltzmannFactorNoNLTE->PartitionFunction->GElectron->PhiSahaLTE->IonNumberDensity->LevelNumberDensity->StimulatedEmissionFactor->TauSobolev->BetaSobolev->TransitionProbabilities (\u001b[1mbase.py\u001b[0m:267)\n"
     ]
    },
    {
     "name": "stdout",
     "output_type": "stream",
     "text": [
      "[\u001b[1mtardis.simulation.base\u001b[0m][\u001b[1;37mINFO\u001b[0m   ]  \n",
      "\tStarting iteration 4 of 5 (\u001b[1mbase.py\u001b[0m:325)\n"
     ]
    },
    {
     "name": "stdout",
     "output_type": "stream",
     "text": [
      "[\u001b[1mtardis.simulation.base\u001b[0m][\u001b[1;37mINFO\u001b[0m   ]  \n",
      "\tLuminosity emitted   = 1.299e+43 erg / s\n",
      "\tLuminosity absorbed  = 4.407e+42 erg / s\n",
      "\tLuminosity requested = 1.059e+43 erg / s\n",
      " (\u001b[1mbase.py\u001b[0m:463)\n"
     ]
    },
    {
     "name": "stdout",
     "output_type": "stream",
     "text": [
      "[\u001b[1mtardis.simulation.base\u001b[0m][\u001b[1;37mINFO\u001b[0m   ]  \n",
      "\tPlasma stratification: (\u001b[1mbase.py\u001b[0m:430)\n"
     ]
    },
    {
     "data": {
      "text/html": [
       "<style  type=\"text/css\" >\n",
       "</style><table id=\"T_6d0da108_d389_11eb_98a6_000d3af525c4\" ><thead>    <tr>        <th class=\"index_name level0\" >Shell No.</th>        <th class=\"col_heading level0 col0\" >t_rad</th>        <th class=\"col_heading level0 col1\" >next_t_rad</th>        <th class=\"col_heading level0 col2\" >w</th>        <th class=\"col_heading level0 col3\" >next_w</th>    </tr></thead><tbody>\n",
       "                <tr>\n",
       "                        <th id=\"T_6d0da108_d389_11eb_98a6_000d3af525c4level0_row0\" class=\"row_heading level0 row0\" >0</th>\n",
       "                        <td id=\"T_6d0da108_d389_11eb_98a6_000d3af525c4row0_col0\" class=\"data row0 col0\" >1.03e+04</td>\n",
       "                        <td id=\"T_6d0da108_d389_11eb_98a6_000d3af525c4row0_col1\" class=\"data row0 col1\" >1.14e+04</td>\n",
       "                        <td id=\"T_6d0da108_d389_11eb_98a6_000d3af525c4row0_col2\" class=\"data row0 col2\" >0.468</td>\n",
       "                        <td id=\"T_6d0da108_d389_11eb_98a6_000d3af525c4row0_col3\" class=\"data row0 col3\" >0.527</td>\n",
       "            </tr>\n",
       "            <tr>\n",
       "                        <th id=\"T_6d0da108_d389_11eb_98a6_000d3af525c4level0_row1\" class=\"row_heading level0 row1\" >5</th>\n",
       "                        <td id=\"T_6d0da108_d389_11eb_98a6_000d3af525c4row1_col0\" class=\"data row1 col0\" >1.05e+04</td>\n",
       "                        <td id=\"T_6d0da108_d389_11eb_98a6_000d3af525c4row1_col1\" class=\"data row1 col1\" >1.13e+04</td>\n",
       "                        <td id=\"T_6d0da108_d389_11eb_98a6_000d3af525c4row1_col2\" class=\"data row1 col2\" >0.181</td>\n",
       "                        <td id=\"T_6d0da108_d389_11eb_98a6_000d3af525c4row1_col3\" class=\"data row1 col3\" >0.225</td>\n",
       "            </tr>\n",
       "            <tr>\n",
       "                        <th id=\"T_6d0da108_d389_11eb_98a6_000d3af525c4level0_row2\" class=\"row_heading level0 row2\" >10</th>\n",
       "                        <td id=\"T_6d0da108_d389_11eb_98a6_000d3af525c4row2_col0\" class=\"data row2 col0\" >1.05e+04</td>\n",
       "                        <td id=\"T_6d0da108_d389_11eb_98a6_000d3af525c4row2_col1\" class=\"data row2 col1\" >1.12e+04</td>\n",
       "                        <td id=\"T_6d0da108_d389_11eb_98a6_000d3af525c4row2_col2\" class=\"data row2 col2\" >0.108</td>\n",
       "                        <td id=\"T_6d0da108_d389_11eb_98a6_000d3af525c4row2_col3\" class=\"data row2 col3\" >0.126</td>\n",
       "            </tr>\n",
       "            <tr>\n",
       "                        <th id=\"T_6d0da108_d389_11eb_98a6_000d3af525c4level0_row3\" class=\"row_heading level0 row3\" >15</th>\n",
       "                        <td id=\"T_6d0da108_d389_11eb_98a6_000d3af525c4row3_col0\" class=\"data row3 col0\" >1.03e+04</td>\n",
       "                        <td id=\"T_6d0da108_d389_11eb_98a6_000d3af525c4row3_col1\" class=\"data row3 col1\" >1.1e+04</td>\n",
       "                        <td id=\"T_6d0da108_d389_11eb_98a6_000d3af525c4row3_col2\" class=\"data row3 col2\" >0.0779</td>\n",
       "                        <td id=\"T_6d0da108_d389_11eb_98a6_000d3af525c4row3_col3\" class=\"data row3 col3\" >0.0926</td>\n",
       "            </tr>\n",
       "    </tbody></table>"
      ],
      "text/plain": [
       "<pandas.io.formats.style.Styler at 0x7f2387b8ba10>"
      ]
     },
     "metadata": {},
     "output_type": "display_data"
    },
    {
     "name": "stdout",
     "output_type": "stream",
     "text": [
      "[\u001b[1mtardis.simulation.base\u001b[0m][\u001b[1;37mINFO\u001b[0m   ]  \n",
      "\tCurrent t_inner = 11245.497 K\n",
      "\tExpected t_inner for next iteration = 10153.431 K\n",
      " (\u001b[1mbase.py\u001b[0m:458)\n"
     ]
    },
    {
     "name": "stdout",
     "output_type": "stream",
     "text": [
      "[\u001b[1mtardis.plasma.base  \u001b[0m][\u001b[1;34mDEBUG\u001b[0m  ]  Updating modules in the following order: JBluesDiluteBlackBody->ElectronTemperature->BetaRadiation->LevelBoltzmannFactorLTE->LevelBoltzmannFactorNoNLTE->PartitionFunction->GElectron->PhiSahaLTE->IonNumberDensity->LevelNumberDensity->StimulatedEmissionFactor->TauSobolev->BetaSobolev->TransitionProbabilities (\u001b[1mbase.py\u001b[0m:267)\n"
     ]
    },
    {
     "name": "stdout",
     "output_type": "stream",
     "text": [
      "[\u001b[1mtardis.simulation.base\u001b[0m][\u001b[1;37mINFO\u001b[0m   ]  \n",
      "\tStarting iteration 5 of 5 (\u001b[1mbase.py\u001b[0m:325)\n"
     ]
    },
    {
     "name": "stdout",
     "output_type": "stream",
     "text": [
      "[\u001b[1mtardis.simulation.base\u001b[0m][\u001b[1;37mINFO\u001b[0m   ]  \n",
      "\tLuminosity emitted   = 8.742e+42 erg / s\n",
      "\tLuminosity absorbed  = 2.834e+42 erg / s\n",
      "\tLuminosity requested = 1.059e+43 erg / s\n",
      " (\u001b[1mbase.py\u001b[0m:463)\n"
     ]
    },
    {
     "name": "stdout",
     "output_type": "stream",
     "text": [
      "[\u001b[1mtardis.simulation.base\u001b[0m][\u001b[1;37mINFO\u001b[0m   ]  \n",
      "\tSimulation finished in 5 iterations \n",
      "\tSimulation took 1.02 s\n",
      " (\u001b[1mbase.py\u001b[0m:384)\n"
     ]
    }
   ],
   "source": [
    "sim = run_tardis(\"tardis_config_logger.yml\", log_state=\"Debug\", specific=False)"
   ]
  },
  {
   "cell_type": "markdown",
   "id": "42ddc98b",
   "metadata": {},
   "source": [
    "It can be examined in this example that when we kept `specific` to `False`, the captured log output includes all log messages from `DEBUG` and higher logging levels, which is the default behavior of the logger."
   ]
  },
  {
   "cell_type": "markdown",
   "id": "f9f478f6",
   "metadata": {},
   "source": [
    "## Logging Configuration (YAML Configuration)"
   ]
  },
  {
   "cell_type": "markdown",
   "id": "0d672a8d",
   "metadata": {},
   "source": [
    "The behavior of the logging output for the simulation can be configured via the `tardis_config_logger.yml` *(**YAML** Configuration)* file. The configuration file must include a `debug` section. An example configuration can be seen below:"
   ]
  },
  {
   "cell_type": "markdown",
   "id": "cd8c3eed",
   "metadata": {},
   "source": [
    "```YAML\n",
    "...\n",
    "debug:\n",
    "  logging_level: \"Info\"\n",
    "  specific_logging : False\n",
    "```"
   ]
  },
  {
   "cell_type": "markdown",
   "id": "85ea7ae2",
   "metadata": {},
   "source": [
    "The `debug` schema includes the `logging_level` & `specific_logging` parameters."
   ]
  },
  {
   "cell_type": "markdown",
   "id": "65204c82",
   "metadata": {},
   "source": [
    "<div class=\"alert alert-info\" role=\"alert\">\n",
    "    When defining the <strong>debug</strong> section in the <strong>YAML</strong> config file, the <strong>logging_level</strong> parameter is always <i>required</i>. If you don't want to specific a logging level via the <strong>logging_level</strong> parameter, set it to <strong>\"\"</strong> {empty string}. The <strong>specific_logging</strong> parameter is optional. \n",
    "</div>"
   ]
  },
  {
   "cell_type": "markdown",
   "id": "62750463",
   "metadata": {},
   "source": [
    "Let us load the `tardis_config_logger.yml` configuration to a variable & check out the schema:"
   ]
  },
  {
   "cell_type": "code",
   "execution_count": 7,
   "id": "d9a5e83b",
   "metadata": {
    "execution": {
     "iopub.execute_input": "2021-06-22T18:41:16.377554Z",
     "iopub.status.busy": "2021-06-22T18:41:16.376751Z",
     "iopub.status.idle": "2021-06-22T18:41:16.380583Z",
     "shell.execute_reply": "2021-06-22T18:41:16.380071Z"
    }
   },
   "outputs": [],
   "source": [
    "from tardis.io.config_reader import Configuration"
   ]
  },
  {
   "cell_type": "code",
   "execution_count": 8,
   "id": "a1fa5e1b",
   "metadata": {
    "execution": {
     "iopub.execute_input": "2021-06-22T18:41:16.399949Z",
     "iopub.status.busy": "2021-06-22T18:41:16.394320Z",
     "iopub.status.idle": "2021-06-22T18:41:16.505217Z",
     "shell.execute_reply": "2021-06-22T18:41:16.506023Z"
    }
   },
   "outputs": [
    {
     "data": {
      "text/plain": [
       "{'logging_level': '', 'specific_logging': False}"
      ]
     },
     "execution_count": 1,
     "metadata": {},
     "output_type": "execute_result"
    }
   ],
   "source": [
    "# Loading the Schema \n",
    "config = Configuration.from_yaml(\"tardis_config_logger.yml\")\n",
    "\n",
    "# Checking the Debug Schema via dictionary\n",
    "config[\"debug\"]"
   ]
  },
  {
   "cell_type": "markdown",
   "id": "7f5f2d9f",
   "metadata": {},
   "source": [
    "### `logging_level`"
   ]
  },
  {
   "cell_type": "markdown",
   "id": "1389e902",
   "metadata": {},
   "source": [
    "The `logging_level` parameter is similar in functionality to the `log_state` functional argument that can be passed via the `run_tardis()` function. The value of this parameter **must be** one of the following: **Notset, Debug, Info, Warning, Error** or **Critical**."
   ]
  },
  {
   "cell_type": "markdown",
   "id": "3bdd9972",
   "metadata": {},
   "source": [
    "Let us see an example of the captured simulation logging output, when the `logging_level : \"Info\"` parameter is set in the `tardis_config_logger.yml` config file."
   ]
  },
  {
   "cell_type": "code",
   "execution_count": 9,
   "id": "88223ed0",
   "metadata": {
    "execution": {
     "iopub.execute_input": "2021-06-22T18:41:16.512242Z",
     "iopub.status.busy": "2021-06-22T18:41:16.509031Z",
     "iopub.status.idle": "2021-06-22T18:41:16.516324Z",
     "shell.execute_reply": "2021-06-22T18:41:16.516836Z"
    }
   },
   "outputs": [],
   "source": [
    "config[\"debug\"][\"logging_level\"] = \"Info\""
   ]
  },
  {
   "cell_type": "code",
   "execution_count": 10,
   "id": "ad8eac94",
   "metadata": {
    "execution": {
     "iopub.execute_input": "2021-06-22T18:41:16.533121Z",
     "iopub.status.busy": "2021-06-22T18:41:16.520939Z",
     "iopub.status.idle": "2021-06-22T18:41:19.998208Z",
     "shell.execute_reply": "2021-06-22T18:41:19.997421Z"
    },
    "scrolled": false
   },
   "outputs": [
    {
     "name": "stdout",
     "output_type": "stream",
     "text": [
      "[\u001b[1mtardis.plasma.standard_plasmas\u001b[0m][\u001b[1;37mINFO\u001b[0m   ]  \n",
      "\tReading Atomic Data from kurucz_cd23_chianti_H_He.h5 (\u001b[1mstandard_plasmas.py\u001b[0m:91)\n"
     ]
    },
    {
     "name": "stdout",
     "output_type": "stream",
     "text": [
      "[\u001b[1mtardis.io.atom_data.util\u001b[0m][\u001b[1;37mINFO\u001b[0m   ]  \n",
      "\tAtom Data kurucz_cd23_chianti_H_He.h5 not found in local path.\n",
      "\tExists in TARDIS Data repo /home/runner/Downloads/tardis-data/kurucz_cd23_chianti_H_He.h5 (\u001b[1mutil.py\u001b[0m:34)\n"
     ]
    },
    {
     "name": "stdout",
     "output_type": "stream",
     "text": [
      "[\u001b[1mtardis.io.atom_data.base\u001b[0m][\u001b[1;37mINFO\u001b[0m   ]  \n",
      "\tReading Atom Data with:\n",
      "\tUUID = 6f7b09e887a311e7a06b246e96350010\n",
      "\tMD5  = 864f1753714343c41f99cb065710cace  (\u001b[1mbase.py\u001b[0m:189)\n"
     ]
    },
    {
     "name": "stdout",
     "output_type": "stream",
     "text": [
      "[\u001b[1mtardis.io.atom_data.base\u001b[0m][\u001b[1;37mINFO\u001b[0m   ]  \n",
      "\tNon provided atomic data:\n",
      "\tsynpp_refs, photoionization_data, yg_data, two_photon_data (\u001b[1mbase.py\u001b[0m:193)\n"
     ]
    },
    {
     "name": "stdout",
     "output_type": "stream",
     "text": [
      "[\u001b[1mtardis.simulation.base\u001b[0m][\u001b[1;37mINFO\u001b[0m   ]  \n",
      "\tStarting iteration 1 of 5 (\u001b[1mbase.py\u001b[0m:325)\n"
     ]
    },
    {
     "name": "stdout",
     "output_type": "stream",
     "text": [
      "[\u001b[1mtardis.simulation.base\u001b[0m][\u001b[1;37mINFO\u001b[0m   ]  \n",
      "\tLuminosity emitted   = 7.947e+42 erg / s\n",
      "\tLuminosity absorbed  = 2.654e+42 erg / s\n",
      "\tLuminosity requested = 1.059e+43 erg / s\n",
      " (\u001b[1mbase.py\u001b[0m:463)\n"
     ]
    },
    {
     "name": "stdout",
     "output_type": "stream",
     "text": [
      "[\u001b[1mtardis.simulation.base\u001b[0m][\u001b[1;37mINFO\u001b[0m   ]  \n",
      "\tPlasma stratification: (\u001b[1mbase.py\u001b[0m:430)\n"
     ]
    },
    {
     "data": {
      "text/html": [
       "<style  type=\"text/css\" >\n",
       "</style><table id=\"T_6f021732_d389_11eb_98a6_000d3af525c4\" ><thead>    <tr>        <th class=\"index_name level0\" >Shell No.</th>        <th class=\"col_heading level0 col0\" >t_rad</th>        <th class=\"col_heading level0 col1\" >next_t_rad</th>        <th class=\"col_heading level0 col2\" >w</th>        <th class=\"col_heading level0 col3\" >next_w</th>    </tr></thead><tbody>\n",
       "                <tr>\n",
       "                        <th id=\"T_6f021732_d389_11eb_98a6_000d3af525c4level0_row0\" class=\"row_heading level0 row0\" >0</th>\n",
       "                        <td id=\"T_6f021732_d389_11eb_98a6_000d3af525c4row0_col0\" class=\"data row0 col0\" >9.93e+03</td>\n",
       "                        <td id=\"T_6f021732_d389_11eb_98a6_000d3af525c4row0_col1\" class=\"data row0 col1\" >1.03e+04</td>\n",
       "                        <td id=\"T_6f021732_d389_11eb_98a6_000d3af525c4row0_col2\" class=\"data row0 col2\" >0.4</td>\n",
       "                        <td id=\"T_6f021732_d389_11eb_98a6_000d3af525c4row0_col3\" class=\"data row0 col3\" >0.481</td>\n",
       "            </tr>\n",
       "            <tr>\n",
       "                        <th id=\"T_6f021732_d389_11eb_98a6_000d3af525c4level0_row1\" class=\"row_heading level0 row1\" >5</th>\n",
       "                        <td id=\"T_6f021732_d389_11eb_98a6_000d3af525c4row1_col0\" class=\"data row1 col0\" >9.85e+03</td>\n",
       "                        <td id=\"T_6f021732_d389_11eb_98a6_000d3af525c4row1_col1\" class=\"data row1 col1\" >1.03e+04</td>\n",
       "                        <td id=\"T_6f021732_d389_11eb_98a6_000d3af525c4row1_col2\" class=\"data row1 col2\" >0.211</td>\n",
       "                        <td id=\"T_6f021732_d389_11eb_98a6_000d3af525c4row1_col3\" class=\"data row1 col3\" >0.193</td>\n",
       "            </tr>\n",
       "            <tr>\n",
       "                        <th id=\"T_6f021732_d389_11eb_98a6_000d3af525c4level0_row2\" class=\"row_heading level0 row2\" >10</th>\n",
       "                        <td id=\"T_6f021732_d389_11eb_98a6_000d3af525c4row2_col0\" class=\"data row2 col0\" >9.78e+03</td>\n",
       "                        <td id=\"T_6f021732_d389_11eb_98a6_000d3af525c4row2_col1\" class=\"data row2 col1\" >1.02e+04</td>\n",
       "                        <td id=\"T_6f021732_d389_11eb_98a6_000d3af525c4row2_col2\" class=\"data row2 col2\" >0.143</td>\n",
       "                        <td id=\"T_6f021732_d389_11eb_98a6_000d3af525c4row2_col3\" class=\"data row2 col3\" >0.112</td>\n",
       "            </tr>\n",
       "            <tr>\n",
       "                        <th id=\"T_6f021732_d389_11eb_98a6_000d3af525c4level0_row3\" class=\"row_heading level0 row3\" >15</th>\n",
       "                        <td id=\"T_6f021732_d389_11eb_98a6_000d3af525c4row3_col0\" class=\"data row3 col0\" >9.71e+03</td>\n",
       "                        <td id=\"T_6f021732_d389_11eb_98a6_000d3af525c4row3_col1\" class=\"data row3 col1\" >9.98e+03</td>\n",
       "                        <td id=\"T_6f021732_d389_11eb_98a6_000d3af525c4row3_col2\" class=\"data row3 col2\" >0.105</td>\n",
       "                        <td id=\"T_6f021732_d389_11eb_98a6_000d3af525c4row3_col3\" class=\"data row3 col3\" >0.0826</td>\n",
       "            </tr>\n",
       "    </tbody></table>"
      ],
      "text/plain": [
       "<pandas.io.formats.style.Styler at 0x7f2383355f10>"
      ]
     },
     "metadata": {},
     "output_type": "display_data"
    },
    {
     "name": "stdout",
     "output_type": "stream",
     "text": [
      "[\u001b[1mtardis.simulation.base\u001b[0m][\u001b[1;37mINFO\u001b[0m   ]  \n",
      "\tCurrent t_inner = 9933.952 K\n",
      "\tExpected t_inner for next iteration = 11468.808 K\n",
      " (\u001b[1mbase.py\u001b[0m:458)\n"
     ]
    },
    {
     "name": "stdout",
     "output_type": "stream",
     "text": [
      "[\u001b[1mtardis.simulation.base\u001b[0m][\u001b[1;37mINFO\u001b[0m   ]  \n",
      "\tStarting iteration 2 of 5 (\u001b[1mbase.py\u001b[0m:325)\n"
     ]
    },
    {
     "name": "stdout",
     "output_type": "stream",
     "text": [
      "[\u001b[1mtardis.simulation.base\u001b[0m][\u001b[1;37mINFO\u001b[0m   ]  \n",
      "\tLuminosity emitted   = 1.413e+43 erg / s\n",
      "\tLuminosity absorbed  = 4.704e+42 erg / s\n",
      "\tLuminosity requested = 1.059e+43 erg / s\n",
      " (\u001b[1mbase.py\u001b[0m:463)\n"
     ]
    },
    {
     "name": "stdout",
     "output_type": "stream",
     "text": [
      "[\u001b[1mtardis.simulation.base\u001b[0m][\u001b[1;37mINFO\u001b[0m   ]  \n",
      "\tPlasma stratification: (\u001b[1mbase.py\u001b[0m:430)\n"
     ]
    },
    {
     "data": {
      "text/html": [
       "<style  type=\"text/css\" >\n",
       "</style><table id=\"T_6f170e94_d389_11eb_98a6_000d3af525c4\" ><thead>    <tr>        <th class=\"index_name level0\" >Shell No.</th>        <th class=\"col_heading level0 col0\" >t_rad</th>        <th class=\"col_heading level0 col1\" >next_t_rad</th>        <th class=\"col_heading level0 col2\" >w</th>        <th class=\"col_heading level0 col3\" >next_w</th>    </tr></thead><tbody>\n",
       "                <tr>\n",
       "                        <th id=\"T_6f170e94_d389_11eb_98a6_000d3af525c4level0_row0\" class=\"row_heading level0 row0\" >0</th>\n",
       "                        <td id=\"T_6f170e94_d389_11eb_98a6_000d3af525c4row0_col0\" class=\"data row0 col0\" >1.03e+04</td>\n",
       "                        <td id=\"T_6f170e94_d389_11eb_98a6_000d3af525c4row0_col1\" class=\"data row0 col1\" >1.15e+04</td>\n",
       "                        <td id=\"T_6f170e94_d389_11eb_98a6_000d3af525c4row0_col2\" class=\"data row0 col2\" >0.481</td>\n",
       "                        <td id=\"T_6f170e94_d389_11eb_98a6_000d3af525c4row0_col3\" class=\"data row0 col3\" >0.555</td>\n",
       "            </tr>\n",
       "            <tr>\n",
       "                        <th id=\"T_6f170e94_d389_11eb_98a6_000d3af525c4level0_row1\" class=\"row_heading level0 row1\" >5</th>\n",
       "                        <td id=\"T_6f170e94_d389_11eb_98a6_000d3af525c4row1_col0\" class=\"data row1 col0\" >1.03e+04</td>\n",
       "                        <td id=\"T_6f170e94_d389_11eb_98a6_000d3af525c4row1_col1\" class=\"data row1 col1\" >1.17e+04</td>\n",
       "                        <td id=\"T_6f170e94_d389_11eb_98a6_000d3af525c4row1_col2\" class=\"data row1 col2\" >0.193</td>\n",
       "                        <td id=\"T_6f170e94_d389_11eb_98a6_000d3af525c4row1_col3\" class=\"data row1 col3\" >0.203</td>\n",
       "            </tr>\n",
       "            <tr>\n",
       "                        <th id=\"T_6f170e94_d389_11eb_98a6_000d3af525c4level0_row2\" class=\"row_heading level0 row2\" >10</th>\n",
       "                        <td id=\"T_6f170e94_d389_11eb_98a6_000d3af525c4row2_col0\" class=\"data row2 col0\" >1.02e+04</td>\n",
       "                        <td id=\"T_6f170e94_d389_11eb_98a6_000d3af525c4row2_col1\" class=\"data row2 col1\" >1.13e+04</td>\n",
       "                        <td id=\"T_6f170e94_d389_11eb_98a6_000d3af525c4row2_col2\" class=\"data row2 col2\" >0.112</td>\n",
       "                        <td id=\"T_6f170e94_d389_11eb_98a6_000d3af525c4row2_col3\" class=\"data row2 col3\" >0.135</td>\n",
       "            </tr>\n",
       "            <tr>\n",
       "                        <th id=\"T_6f170e94_d389_11eb_98a6_000d3af525c4level0_row3\" class=\"row_heading level0 row3\" >15</th>\n",
       "                        <td id=\"T_6f170e94_d389_11eb_98a6_000d3af525c4row3_col0\" class=\"data row3 col0\" >9.98e+03</td>\n",
       "                        <td id=\"T_6f170e94_d389_11eb_98a6_000d3af525c4row3_col1\" class=\"data row3 col1\" >1.1e+04</td>\n",
       "                        <td id=\"T_6f170e94_d389_11eb_98a6_000d3af525c4row3_col2\" class=\"data row3 col2\" >0.0826</td>\n",
       "                        <td id=\"T_6f170e94_d389_11eb_98a6_000d3af525c4row3_col3\" class=\"data row3 col3\" >0.0998</td>\n",
       "            </tr>\n",
       "    </tbody></table>"
      ],
      "text/plain": [
       "<pandas.io.formats.style.Styler at 0x7f2383356ed0>"
      ]
     },
     "metadata": {},
     "output_type": "display_data"
    },
    {
     "name": "stdout",
     "output_type": "stream",
     "text": [
      "[\u001b[1mtardis.simulation.base\u001b[0m][\u001b[1;37mINFO\u001b[0m   ]  \n",
      "\tCurrent t_inner = 11468.808 K\n",
      "\tExpected t_inner for next iteration = 9929.475 K\n",
      " (\u001b[1mbase.py\u001b[0m:458)\n"
     ]
    },
    {
     "name": "stdout",
     "output_type": "stream",
     "text": [
      "[\u001b[1mtardis.simulation.base\u001b[0m][\u001b[1;37mINFO\u001b[0m   ]  \n",
      "\tStarting iteration 3 of 5 (\u001b[1mbase.py\u001b[0m:325)\n"
     ]
    },
    {
     "name": "stdout",
     "output_type": "stream",
     "text": [
      "[\u001b[1mtardis.simulation.base\u001b[0m][\u001b[1;37mINFO\u001b[0m   ]  \n",
      "\tLuminosity emitted   = 8.259e+42 erg / s\n",
      "\tLuminosity absorbed  = 2.337e+42 erg / s\n",
      "\tLuminosity requested = 1.059e+43 erg / s\n",
      " (\u001b[1mbase.py\u001b[0m:463)\n"
     ]
    },
    {
     "name": "stdout",
     "output_type": "stream",
     "text": [
      "[\u001b[1mtardis.simulation.base\u001b[0m][\u001b[1;37mINFO\u001b[0m   ]  \n",
      "\tPlasma stratification: (\u001b[1mbase.py\u001b[0m:430)\n"
     ]
    },
    {
     "data": {
      "text/html": [
       "<style  type=\"text/css\" >\n",
       "</style><table id=\"T_6f2c1898_d389_11eb_98a6_000d3af525c4\" ><thead>    <tr>        <th class=\"index_name level0\" >Shell No.</th>        <th class=\"col_heading level0 col0\" >t_rad</th>        <th class=\"col_heading level0 col1\" >next_t_rad</th>        <th class=\"col_heading level0 col2\" >w</th>        <th class=\"col_heading level0 col3\" >next_w</th>    </tr></thead><tbody>\n",
       "                <tr>\n",
       "                        <th id=\"T_6f2c1898_d389_11eb_98a6_000d3af525c4level0_row0\" class=\"row_heading level0 row0\" >0</th>\n",
       "                        <td id=\"T_6f2c1898_d389_11eb_98a6_000d3af525c4row0_col0\" class=\"data row0 col0\" >1.15e+04</td>\n",
       "                        <td id=\"T_6f2c1898_d389_11eb_98a6_000d3af525c4row0_col1\" class=\"data row0 col1\" >1.03e+04</td>\n",
       "                        <td id=\"T_6f2c1898_d389_11eb_98a6_000d3af525c4row0_col2\" class=\"data row0 col2\" >0.555</td>\n",
       "                        <td id=\"T_6f2c1898_d389_11eb_98a6_000d3af525c4row0_col3\" class=\"data row0 col3\" >0.468</td>\n",
       "            </tr>\n",
       "            <tr>\n",
       "                        <th id=\"T_6f2c1898_d389_11eb_98a6_000d3af525c4level0_row1\" class=\"row_heading level0 row1\" >5</th>\n",
       "                        <td id=\"T_6f2c1898_d389_11eb_98a6_000d3af525c4row1_col0\" class=\"data row1 col0\" >1.17e+04</td>\n",
       "                        <td id=\"T_6f2c1898_d389_11eb_98a6_000d3af525c4row1_col1\" class=\"data row1 col1\" >1.05e+04</td>\n",
       "                        <td id=\"T_6f2c1898_d389_11eb_98a6_000d3af525c4row1_col2\" class=\"data row1 col2\" >0.203</td>\n",
       "                        <td id=\"T_6f2c1898_d389_11eb_98a6_000d3af525c4row1_col3\" class=\"data row1 col3\" >0.181</td>\n",
       "            </tr>\n",
       "            <tr>\n",
       "                        <th id=\"T_6f2c1898_d389_11eb_98a6_000d3af525c4level0_row2\" class=\"row_heading level0 row2\" >10</th>\n",
       "                        <td id=\"T_6f2c1898_d389_11eb_98a6_000d3af525c4row2_col0\" class=\"data row2 col0\" >1.13e+04</td>\n",
       "                        <td id=\"T_6f2c1898_d389_11eb_98a6_000d3af525c4row2_col1\" class=\"data row2 col1\" >1.05e+04</td>\n",
       "                        <td id=\"T_6f2c1898_d389_11eb_98a6_000d3af525c4row2_col2\" class=\"data row2 col2\" >0.135</td>\n",
       "                        <td id=\"T_6f2c1898_d389_11eb_98a6_000d3af525c4row2_col3\" class=\"data row2 col3\" >0.108</td>\n",
       "            </tr>\n",
       "            <tr>\n",
       "                        <th id=\"T_6f2c1898_d389_11eb_98a6_000d3af525c4level0_row3\" class=\"row_heading level0 row3\" >15</th>\n",
       "                        <td id=\"T_6f2c1898_d389_11eb_98a6_000d3af525c4row3_col0\" class=\"data row3 col0\" >1.1e+04</td>\n",
       "                        <td id=\"T_6f2c1898_d389_11eb_98a6_000d3af525c4row3_col1\" class=\"data row3 col1\" >1.03e+04</td>\n",
       "                        <td id=\"T_6f2c1898_d389_11eb_98a6_000d3af525c4row3_col2\" class=\"data row3 col2\" >0.0998</td>\n",
       "                        <td id=\"T_6f2c1898_d389_11eb_98a6_000d3af525c4row3_col3\" class=\"data row3 col3\" >0.0779</td>\n",
       "            </tr>\n",
       "    </tbody></table>"
      ],
      "text/plain": [
       "<pandas.io.formats.style.Styler at 0x7f2387b8cb50>"
      ]
     },
     "metadata": {},
     "output_type": "display_data"
    },
    {
     "name": "stdout",
     "output_type": "stream",
     "text": [
      "[\u001b[1mtardis.simulation.base\u001b[0m][\u001b[1;37mINFO\u001b[0m   ]  \n",
      "\tCurrent t_inner = 9929.475 K\n",
      "\tExpected t_inner for next iteration = 11245.497 K\n",
      " (\u001b[1mbase.py\u001b[0m:458)\n"
     ]
    },
    {
     "name": "stdout",
     "output_type": "stream",
     "text": [
      "[\u001b[1mtardis.simulation.base\u001b[0m][\u001b[1;37mINFO\u001b[0m   ]  \n",
      "\tStarting iteration 4 of 5 (\u001b[1mbase.py\u001b[0m:325)\n"
     ]
    },
    {
     "name": "stdout",
     "output_type": "stream",
     "text": [
      "[\u001b[1mtardis.simulation.base\u001b[0m][\u001b[1;37mINFO\u001b[0m   ]  \n",
      "\tLuminosity emitted   = 1.299e+43 erg / s\n",
      "\tLuminosity absorbed  = 4.407e+42 erg / s\n",
      "\tLuminosity requested = 1.059e+43 erg / s\n",
      " (\u001b[1mbase.py\u001b[0m:463)\n"
     ]
    },
    {
     "name": "stdout",
     "output_type": "stream",
     "text": [
      "[\u001b[1mtardis.simulation.base\u001b[0m][\u001b[1;37mINFO\u001b[0m   ]  \n",
      "\tPlasma stratification: (\u001b[1mbase.py\u001b[0m:430)\n"
     ]
    },
    {
     "data": {
      "text/html": [
       "<style  type=\"text/css\" >\n",
       "</style><table id=\"T_6f41a276_d389_11eb_98a6_000d3af525c4\" ><thead>    <tr>        <th class=\"index_name level0\" >Shell No.</th>        <th class=\"col_heading level0 col0\" >t_rad</th>        <th class=\"col_heading level0 col1\" >next_t_rad</th>        <th class=\"col_heading level0 col2\" >w</th>        <th class=\"col_heading level0 col3\" >next_w</th>    </tr></thead><tbody>\n",
       "                <tr>\n",
       "                        <th id=\"T_6f41a276_d389_11eb_98a6_000d3af525c4level0_row0\" class=\"row_heading level0 row0\" >0</th>\n",
       "                        <td id=\"T_6f41a276_d389_11eb_98a6_000d3af525c4row0_col0\" class=\"data row0 col0\" >1.03e+04</td>\n",
       "                        <td id=\"T_6f41a276_d389_11eb_98a6_000d3af525c4row0_col1\" class=\"data row0 col1\" >1.14e+04</td>\n",
       "                        <td id=\"T_6f41a276_d389_11eb_98a6_000d3af525c4row0_col2\" class=\"data row0 col2\" >0.468</td>\n",
       "                        <td id=\"T_6f41a276_d389_11eb_98a6_000d3af525c4row0_col3\" class=\"data row0 col3\" >0.527</td>\n",
       "            </tr>\n",
       "            <tr>\n",
       "                        <th id=\"T_6f41a276_d389_11eb_98a6_000d3af525c4level0_row1\" class=\"row_heading level0 row1\" >5</th>\n",
       "                        <td id=\"T_6f41a276_d389_11eb_98a6_000d3af525c4row1_col0\" class=\"data row1 col0\" >1.05e+04</td>\n",
       "                        <td id=\"T_6f41a276_d389_11eb_98a6_000d3af525c4row1_col1\" class=\"data row1 col1\" >1.13e+04</td>\n",
       "                        <td id=\"T_6f41a276_d389_11eb_98a6_000d3af525c4row1_col2\" class=\"data row1 col2\" >0.181</td>\n",
       "                        <td id=\"T_6f41a276_d389_11eb_98a6_000d3af525c4row1_col3\" class=\"data row1 col3\" >0.225</td>\n",
       "            </tr>\n",
       "            <tr>\n",
       "                        <th id=\"T_6f41a276_d389_11eb_98a6_000d3af525c4level0_row2\" class=\"row_heading level0 row2\" >10</th>\n",
       "                        <td id=\"T_6f41a276_d389_11eb_98a6_000d3af525c4row2_col0\" class=\"data row2 col0\" >1.05e+04</td>\n",
       "                        <td id=\"T_6f41a276_d389_11eb_98a6_000d3af525c4row2_col1\" class=\"data row2 col1\" >1.12e+04</td>\n",
       "                        <td id=\"T_6f41a276_d389_11eb_98a6_000d3af525c4row2_col2\" class=\"data row2 col2\" >0.108</td>\n",
       "                        <td id=\"T_6f41a276_d389_11eb_98a6_000d3af525c4row2_col3\" class=\"data row2 col3\" >0.126</td>\n",
       "            </tr>\n",
       "            <tr>\n",
       "                        <th id=\"T_6f41a276_d389_11eb_98a6_000d3af525c4level0_row3\" class=\"row_heading level0 row3\" >15</th>\n",
       "                        <td id=\"T_6f41a276_d389_11eb_98a6_000d3af525c4row3_col0\" class=\"data row3 col0\" >1.03e+04</td>\n",
       "                        <td id=\"T_6f41a276_d389_11eb_98a6_000d3af525c4row3_col1\" class=\"data row3 col1\" >1.1e+04</td>\n",
       "                        <td id=\"T_6f41a276_d389_11eb_98a6_000d3af525c4row3_col2\" class=\"data row3 col2\" >0.0779</td>\n",
       "                        <td id=\"T_6f41a276_d389_11eb_98a6_000d3af525c4row3_col3\" class=\"data row3 col3\" >0.0926</td>\n",
       "            </tr>\n",
       "    </tbody></table>"
      ],
      "text/plain": [
       "<pandas.io.formats.style.Styler at 0x7f23855eeb50>"
      ]
     },
     "metadata": {},
     "output_type": "display_data"
    },
    {
     "name": "stdout",
     "output_type": "stream",
     "text": [
      "[\u001b[1mtardis.simulation.base\u001b[0m][\u001b[1;37mINFO\u001b[0m   ]  \n",
      "\tCurrent t_inner = 11245.497 K\n",
      "\tExpected t_inner for next iteration = 10153.431 K\n",
      " (\u001b[1mbase.py\u001b[0m:458)\n"
     ]
    },
    {
     "name": "stdout",
     "output_type": "stream",
     "text": [
      "[\u001b[1mtardis.simulation.base\u001b[0m][\u001b[1;37mINFO\u001b[0m   ]  \n",
      "\tStarting iteration 5 of 5 (\u001b[1mbase.py\u001b[0m:325)\n"
     ]
    },
    {
     "name": "stdout",
     "output_type": "stream",
     "text": [
      "[\u001b[1mtardis.simulation.base\u001b[0m][\u001b[1;37mINFO\u001b[0m   ]  \n",
      "\tLuminosity emitted   = 8.742e+42 erg / s\n",
      "\tLuminosity absorbed  = 2.834e+42 erg / s\n",
      "\tLuminosity requested = 1.059e+43 erg / s\n",
      " (\u001b[1mbase.py\u001b[0m:463)\n"
     ]
    },
    {
     "name": "stdout",
     "output_type": "stream",
     "text": [
      "[\u001b[1mtardis.simulation.base\u001b[0m][\u001b[1;37mINFO\u001b[0m   ]  \n",
      "\tSimulation finished in 5 iterations \n",
      "\tSimulation took 0.95 s\n",
      " (\u001b[1mbase.py\u001b[0m:384)\n"
     ]
    }
   ],
   "source": [
    "# Running the simulation by passing the config dictionary to `run_tardis()` function\n",
    "sim = run_tardis(config)"
   ]
  },
  {
   "cell_type": "markdown",
   "id": "3fadc651",
   "metadata": {},
   "source": [
    "### `specific_logging`"
   ]
  },
  {
   "cell_type": "markdown",
   "id": "df50d2e1",
   "metadata": {},
   "source": [
    "The `specific_logging` parameter in the `debug` section of the schema is similar in functionality to the `specific` functional argument. It takes **Boolean** values, i.e., `True` or `False`. It is an optional parameter. "
   ]
  },
  {
   "cell_type": "markdown",
   "id": "b71946ad",
   "metadata": {},
   "source": [
    "Let us see an example when we set `specific_logging` to `True` at the `Debug` level."
   ]
  },
  {
   "cell_type": "code",
   "execution_count": 11,
   "id": "64ce1048",
   "metadata": {
    "execution": {
     "iopub.execute_input": "2021-06-22T18:41:20.002462Z",
     "iopub.status.busy": "2021-06-22T18:41:20.001827Z",
     "iopub.status.idle": "2021-06-22T18:41:20.005326Z",
     "shell.execute_reply": "2021-06-22T18:41:20.005736Z"
    }
   },
   "outputs": [],
   "source": [
    "config[\"debug\"][\"logging_level\"] = \"Debug\"\n",
    "config[\"debug\"][\"specific_logging\"] = True"
   ]
  },
  {
   "cell_type": "code",
   "execution_count": 12,
   "id": "33696bdd",
   "metadata": {
    "execution": {
     "iopub.execute_input": "2021-06-22T18:41:20.016181Z",
     "iopub.status.busy": "2021-06-22T18:41:20.015365Z",
     "iopub.status.idle": "2021-06-22T18:41:23.226358Z",
     "shell.execute_reply": "2021-06-22T18:41:23.226859Z"
    }
   },
   "outputs": [
    {
     "name": "stdout",
     "output_type": "stream",
     "text": [
      "[\u001b[1mtardis.plasma.base  \u001b[0m][\u001b[1;34mDEBUG\u001b[0m  ]  Updating modules in the following order: SelectedAtoms->IonizationData->AtomicMass->NumberDensity->Lines->Levels->LinesUpperLevelIndex->LinesLowerLevelIndex->JBluesDiluteBlackBody->ElectronTemperature->BetaRadiation->LevelBoltzmannFactorLTE->LevelBoltzmannFactorNoNLTE->PartitionFunction->GElectron->PhiSahaLTE->IonNumberDensity->LevelNumberDensity->StimulatedEmissionFactor->TauSobolev->BetaSobolev->TransitionProbabilities (\u001b[1mbase.py\u001b[0m:267)\n"
     ]
    },
    {
     "name": "stdout",
     "output_type": "stream",
     "text": [
      "[\u001b[1mtardis.plasma.base  \u001b[0m][\u001b[1;34mDEBUG\u001b[0m  ]  Updating modules in the following order: SelectedAtoms->IonizationData->AtomicMass->NumberDensity->Lines->Levels->LinesUpperLevelIndex->LinesLowerLevelIndex->JBluesDiluteBlackBody->ElectronTemperature->BetaRadiation->LevelBoltzmannFactorLTE->LevelBoltzmannFactorNoNLTE->PartitionFunction->GElectron->PhiSahaLTE->IonNumberDensity->LevelNumberDensity->StimulatedEmissionFactor->TauSobolev->BetaSobolev->TransitionProbabilities (\u001b[1mbase.py\u001b[0m:267)\n"
     ]
    },
    {
     "name": "stdout",
     "output_type": "stream",
     "text": [
      "[\u001b[1mtardis.montecarlo.base\u001b[0m][\u001b[1;34mDEBUG\u001b[0m  ]  Electron scattering switched on (\u001b[1mbase.py\u001b[0m:576)\n"
     ]
    },
    {
     "name": "stdout",
     "output_type": "stream",
     "text": [
      "[\u001b[1mtardis.plasma.base  \u001b[0m][\u001b[1;34mDEBUG\u001b[0m  ]  Updating modules in the following order: JBluesDiluteBlackBody->ElectronTemperature->BetaRadiation->LevelBoltzmannFactorLTE->LevelBoltzmannFactorNoNLTE->PartitionFunction->GElectron->PhiSahaLTE->IonNumberDensity->LevelNumberDensity->StimulatedEmissionFactor->TauSobolev->BetaSobolev->TransitionProbabilities (\u001b[1mbase.py\u001b[0m:267)\n"
     ]
    },
    {
     "name": "stdout",
     "output_type": "stream",
     "text": [
      "[\u001b[1mtardis.plasma.base  \u001b[0m][\u001b[1;34mDEBUG\u001b[0m  ]  Updating modules in the following order: JBluesDiluteBlackBody->ElectronTemperature->BetaRadiation->LevelBoltzmannFactorLTE->LevelBoltzmannFactorNoNLTE->PartitionFunction->GElectron->PhiSahaLTE->IonNumberDensity->LevelNumberDensity->StimulatedEmissionFactor->TauSobolev->BetaSobolev->TransitionProbabilities (\u001b[1mbase.py\u001b[0m:267)\n"
     ]
    },
    {
     "name": "stdout",
     "output_type": "stream",
     "text": [
      "[\u001b[1mtardis.plasma.base  \u001b[0m][\u001b[1;34mDEBUG\u001b[0m  ]  Updating modules in the following order: JBluesDiluteBlackBody->ElectronTemperature->BetaRadiation->LevelBoltzmannFactorLTE->LevelBoltzmannFactorNoNLTE->PartitionFunction->GElectron->PhiSahaLTE->IonNumberDensity->LevelNumberDensity->StimulatedEmissionFactor->TauSobolev->BetaSobolev->TransitionProbabilities (\u001b[1mbase.py\u001b[0m:267)\n"
     ]
    },
    {
     "name": "stdout",
     "output_type": "stream",
     "text": [
      "[\u001b[1mtardis.plasma.base  \u001b[0m][\u001b[1;34mDEBUG\u001b[0m  ]  Updating modules in the following order: JBluesDiluteBlackBody->ElectronTemperature->BetaRadiation->LevelBoltzmannFactorLTE->LevelBoltzmannFactorNoNLTE->PartitionFunction->GElectron->PhiSahaLTE->IonNumberDensity->LevelNumberDensity->StimulatedEmissionFactor->TauSobolev->BetaSobolev->TransitionProbabilities (\u001b[1mbase.py\u001b[0m:267)\n"
     ]
    }
   ],
   "source": [
    "sim = run_tardis(config)"
   ]
  },
  {
   "cell_type": "markdown",
   "id": "3e895aec",
   "metadata": {},
   "source": [
    "Setting `specific_logging` to `False` to check the actual output at the `DEBUG` level for the simulation logs."
   ]
  },
  {
   "cell_type": "code",
   "execution_count": 13,
   "id": "762c858f",
   "metadata": {
    "execution": {
     "iopub.execute_input": "2021-06-22T18:41:23.232862Z",
     "iopub.status.busy": "2021-06-22T18:41:23.231193Z",
     "iopub.status.idle": "2021-06-22T18:41:23.233488Z",
     "shell.execute_reply": "2021-06-22T18:41:23.233953Z"
    }
   },
   "outputs": [],
   "source": [
    "config[\"debug\"][\"specific_logging\"] = False"
   ]
  },
  {
   "cell_type": "code",
   "execution_count": 14,
   "id": "581f2d8d",
   "metadata": {
    "execution": {
     "iopub.execute_input": "2021-06-22T18:41:23.258826Z",
     "iopub.status.busy": "2021-06-22T18:41:23.249125Z",
     "iopub.status.idle": "2021-06-22T18:41:26.628625Z",
     "shell.execute_reply": "2021-06-22T18:41:26.629059Z"
    },
    "scrolled": false
   },
   "outputs": [
    {
     "name": "stdout",
     "output_type": "stream",
     "text": [
      "[\u001b[1mtardis.plasma.standard_plasmas\u001b[0m][\u001b[1;37mINFO\u001b[0m   ]  \n",
      "\tReading Atomic Data from kurucz_cd23_chianti_H_He.h5 (\u001b[1mstandard_plasmas.py\u001b[0m:91)\n"
     ]
    },
    {
     "name": "stdout",
     "output_type": "stream",
     "text": [
      "[\u001b[1mtardis.io.atom_data.util\u001b[0m][\u001b[1;37mINFO\u001b[0m   ]  \n",
      "\tAtom Data kurucz_cd23_chianti_H_He.h5 not found in local path.\n",
      "\tExists in TARDIS Data repo /home/runner/Downloads/tardis-data/kurucz_cd23_chianti_H_He.h5 (\u001b[1mutil.py\u001b[0m:34)\n"
     ]
    },
    {
     "name": "stdout",
     "output_type": "stream",
     "text": [
      "[\u001b[1mtardis.io.atom_data.base\u001b[0m][\u001b[1;37mINFO\u001b[0m   ]  \n",
      "\tReading Atom Data with:\n",
      "\tUUID = 6f7b09e887a311e7a06b246e96350010\n",
      "\tMD5  = 864f1753714343c41f99cb065710cace  (\u001b[1mbase.py\u001b[0m:189)\n"
     ]
    },
    {
     "name": "stdout",
     "output_type": "stream",
     "text": [
      "[\u001b[1mtardis.io.atom_data.base\u001b[0m][\u001b[1;37mINFO\u001b[0m   ]  \n",
      "\tNon provided atomic data:\n",
      "\tsynpp_refs, photoionization_data, yg_data, two_photon_data (\u001b[1mbase.py\u001b[0m:193)\n"
     ]
    },
    {
     "name": "stdout",
     "output_type": "stream",
     "text": [
      "[\u001b[1mtardis.plasma.base  \u001b[0m][\u001b[1;34mDEBUG\u001b[0m  ]  Updating modules in the following order: SelectedAtoms->IonizationData->AtomicMass->NumberDensity->Lines->Levels->LinesUpperLevelIndex->LinesLowerLevelIndex->JBluesDiluteBlackBody->ElectronTemperature->BetaRadiation->LevelBoltzmannFactorLTE->LevelBoltzmannFactorNoNLTE->PartitionFunction->GElectron->PhiSahaLTE->IonNumberDensity->LevelNumberDensity->StimulatedEmissionFactor->TauSobolev->BetaSobolev->TransitionProbabilities (\u001b[1mbase.py\u001b[0m:267)\n"
     ]
    },
    {
     "name": "stdout",
     "output_type": "stream",
     "text": [
      "[\u001b[1mtardis.plasma.base  \u001b[0m][\u001b[1;34mDEBUG\u001b[0m  ]  Updating modules in the following order: SelectedAtoms->IonizationData->AtomicMass->NumberDensity->Lines->Levels->LinesUpperLevelIndex->LinesLowerLevelIndex->JBluesDiluteBlackBody->ElectronTemperature->BetaRadiation->LevelBoltzmannFactorLTE->LevelBoltzmannFactorNoNLTE->PartitionFunction->GElectron->PhiSahaLTE->IonNumberDensity->LevelNumberDensity->StimulatedEmissionFactor->TauSobolev->BetaSobolev->TransitionProbabilities (\u001b[1mbase.py\u001b[0m:267)\n"
     ]
    },
    {
     "name": "stdout",
     "output_type": "stream",
     "text": [
      "[\u001b[1mtardis.montecarlo.base\u001b[0m][\u001b[1;34mDEBUG\u001b[0m  ]  Electron scattering switched on (\u001b[1mbase.py\u001b[0m:576)\n"
     ]
    },
    {
     "name": "stdout",
     "output_type": "stream",
     "text": [
      "[\u001b[1mtardis.simulation.base\u001b[0m][\u001b[1;37mINFO\u001b[0m   ]  \n",
      "\tStarting iteration 1 of 5 (\u001b[1mbase.py\u001b[0m:325)\n"
     ]
    },
    {
     "name": "stdout",
     "output_type": "stream",
     "text": [
      "[\u001b[1mtardis.simulation.base\u001b[0m][\u001b[1;37mINFO\u001b[0m   ]  \n",
      "\tLuminosity emitted   = 7.947e+42 erg / s\n",
      "\tLuminosity absorbed  = 2.654e+42 erg / s\n",
      "\tLuminosity requested = 1.059e+43 erg / s\n",
      " (\u001b[1mbase.py\u001b[0m:463)\n"
     ]
    },
    {
     "name": "stdout",
     "output_type": "stream",
     "text": [
      "[\u001b[1mtardis.simulation.base\u001b[0m][\u001b[1;37mINFO\u001b[0m   ]  \n",
      "\tPlasma stratification: (\u001b[1mbase.py\u001b[0m:430)\n"
     ]
    },
    {
     "data": {
      "text/html": [
       "<style  type=\"text/css\" >\n",
       "</style><table id=\"T_72f57154_d389_11eb_98a6_000d3af525c4\" ><thead>    <tr>        <th class=\"index_name level0\" >Shell No.</th>        <th class=\"col_heading level0 col0\" >t_rad</th>        <th class=\"col_heading level0 col1\" >next_t_rad</th>        <th class=\"col_heading level0 col2\" >w</th>        <th class=\"col_heading level0 col3\" >next_w</th>    </tr></thead><tbody>\n",
       "                <tr>\n",
       "                        <th id=\"T_72f57154_d389_11eb_98a6_000d3af525c4level0_row0\" class=\"row_heading level0 row0\" >0</th>\n",
       "                        <td id=\"T_72f57154_d389_11eb_98a6_000d3af525c4row0_col0\" class=\"data row0 col0\" >9.93e+03</td>\n",
       "                        <td id=\"T_72f57154_d389_11eb_98a6_000d3af525c4row0_col1\" class=\"data row0 col1\" >1.03e+04</td>\n",
       "                        <td id=\"T_72f57154_d389_11eb_98a6_000d3af525c4row0_col2\" class=\"data row0 col2\" >0.4</td>\n",
       "                        <td id=\"T_72f57154_d389_11eb_98a6_000d3af525c4row0_col3\" class=\"data row0 col3\" >0.481</td>\n",
       "            </tr>\n",
       "            <tr>\n",
       "                        <th id=\"T_72f57154_d389_11eb_98a6_000d3af525c4level0_row1\" class=\"row_heading level0 row1\" >5</th>\n",
       "                        <td id=\"T_72f57154_d389_11eb_98a6_000d3af525c4row1_col0\" class=\"data row1 col0\" >9.85e+03</td>\n",
       "                        <td id=\"T_72f57154_d389_11eb_98a6_000d3af525c4row1_col1\" class=\"data row1 col1\" >1.03e+04</td>\n",
       "                        <td id=\"T_72f57154_d389_11eb_98a6_000d3af525c4row1_col2\" class=\"data row1 col2\" >0.211</td>\n",
       "                        <td id=\"T_72f57154_d389_11eb_98a6_000d3af525c4row1_col3\" class=\"data row1 col3\" >0.193</td>\n",
       "            </tr>\n",
       "            <tr>\n",
       "                        <th id=\"T_72f57154_d389_11eb_98a6_000d3af525c4level0_row2\" class=\"row_heading level0 row2\" >10</th>\n",
       "                        <td id=\"T_72f57154_d389_11eb_98a6_000d3af525c4row2_col0\" class=\"data row2 col0\" >9.78e+03</td>\n",
       "                        <td id=\"T_72f57154_d389_11eb_98a6_000d3af525c4row2_col1\" class=\"data row2 col1\" >1.02e+04</td>\n",
       "                        <td id=\"T_72f57154_d389_11eb_98a6_000d3af525c4row2_col2\" class=\"data row2 col2\" >0.143</td>\n",
       "                        <td id=\"T_72f57154_d389_11eb_98a6_000d3af525c4row2_col3\" class=\"data row2 col3\" >0.112</td>\n",
       "            </tr>\n",
       "            <tr>\n",
       "                        <th id=\"T_72f57154_d389_11eb_98a6_000d3af525c4level0_row3\" class=\"row_heading level0 row3\" >15</th>\n",
       "                        <td id=\"T_72f57154_d389_11eb_98a6_000d3af525c4row3_col0\" class=\"data row3 col0\" >9.71e+03</td>\n",
       "                        <td id=\"T_72f57154_d389_11eb_98a6_000d3af525c4row3_col1\" class=\"data row3 col1\" >9.98e+03</td>\n",
       "                        <td id=\"T_72f57154_d389_11eb_98a6_000d3af525c4row3_col2\" class=\"data row3 col2\" >0.105</td>\n",
       "                        <td id=\"T_72f57154_d389_11eb_98a6_000d3af525c4row3_col3\" class=\"data row3 col3\" >0.0826</td>\n",
       "            </tr>\n",
       "    </tbody></table>"
      ],
      "text/plain": [
       "<pandas.io.formats.style.Styler at 0x7f2394c372d0>"
      ]
     },
     "metadata": {},
     "output_type": "display_data"
    },
    {
     "name": "stdout",
     "output_type": "stream",
     "text": [
      "[\u001b[1mtardis.simulation.base\u001b[0m][\u001b[1;37mINFO\u001b[0m   ]  \n",
      "\tCurrent t_inner = 9933.952 K\n",
      "\tExpected t_inner for next iteration = 11468.808 K\n",
      " (\u001b[1mbase.py\u001b[0m:458)\n"
     ]
    },
    {
     "name": "stdout",
     "output_type": "stream",
     "text": [
      "[\u001b[1mtardis.plasma.base  \u001b[0m][\u001b[1;34mDEBUG\u001b[0m  ]  Updating modules in the following order: JBluesDiluteBlackBody->ElectronTemperature->BetaRadiation->LevelBoltzmannFactorLTE->LevelBoltzmannFactorNoNLTE->PartitionFunction->GElectron->PhiSahaLTE->IonNumberDensity->LevelNumberDensity->StimulatedEmissionFactor->TauSobolev->BetaSobolev->TransitionProbabilities (\u001b[1mbase.py\u001b[0m:267)\n"
     ]
    },
    {
     "name": "stdout",
     "output_type": "stream",
     "text": [
      "[\u001b[1mtardis.simulation.base\u001b[0m][\u001b[1;37mINFO\u001b[0m   ]  \n",
      "\tStarting iteration 2 of 5 (\u001b[1mbase.py\u001b[0m:325)\n"
     ]
    },
    {
     "name": "stdout",
     "output_type": "stream",
     "text": [
      "[\u001b[1mtardis.simulation.base\u001b[0m][\u001b[1;37mINFO\u001b[0m   ]  \n",
      "\tLuminosity emitted   = 1.413e+43 erg / s\n",
      "\tLuminosity absorbed  = 4.704e+42 erg / s\n",
      "\tLuminosity requested = 1.059e+43 erg / s\n",
      " (\u001b[1mbase.py\u001b[0m:463)\n"
     ]
    },
    {
     "name": "stdout",
     "output_type": "stream",
     "text": [
      "[\u001b[1mtardis.simulation.base\u001b[0m][\u001b[1;37mINFO\u001b[0m   ]  \n",
      "\tPlasma stratification: (\u001b[1mbase.py\u001b[0m:430)\n"
     ]
    },
    {
     "data": {
      "text/html": [
       "<style  type=\"text/css\" >\n",
       "</style><table id=\"T_730b6284_d389_11eb_98a6_000d3af525c4\" ><thead>    <tr>        <th class=\"index_name level0\" >Shell No.</th>        <th class=\"col_heading level0 col0\" >t_rad</th>        <th class=\"col_heading level0 col1\" >next_t_rad</th>        <th class=\"col_heading level0 col2\" >w</th>        <th class=\"col_heading level0 col3\" >next_w</th>    </tr></thead><tbody>\n",
       "                <tr>\n",
       "                        <th id=\"T_730b6284_d389_11eb_98a6_000d3af525c4level0_row0\" class=\"row_heading level0 row0\" >0</th>\n",
       "                        <td id=\"T_730b6284_d389_11eb_98a6_000d3af525c4row0_col0\" class=\"data row0 col0\" >1.03e+04</td>\n",
       "                        <td id=\"T_730b6284_d389_11eb_98a6_000d3af525c4row0_col1\" class=\"data row0 col1\" >1.15e+04</td>\n",
       "                        <td id=\"T_730b6284_d389_11eb_98a6_000d3af525c4row0_col2\" class=\"data row0 col2\" >0.481</td>\n",
       "                        <td id=\"T_730b6284_d389_11eb_98a6_000d3af525c4row0_col3\" class=\"data row0 col3\" >0.555</td>\n",
       "            </tr>\n",
       "            <tr>\n",
       "                        <th id=\"T_730b6284_d389_11eb_98a6_000d3af525c4level0_row1\" class=\"row_heading level0 row1\" >5</th>\n",
       "                        <td id=\"T_730b6284_d389_11eb_98a6_000d3af525c4row1_col0\" class=\"data row1 col0\" >1.03e+04</td>\n",
       "                        <td id=\"T_730b6284_d389_11eb_98a6_000d3af525c4row1_col1\" class=\"data row1 col1\" >1.17e+04</td>\n",
       "                        <td id=\"T_730b6284_d389_11eb_98a6_000d3af525c4row1_col2\" class=\"data row1 col2\" >0.193</td>\n",
       "                        <td id=\"T_730b6284_d389_11eb_98a6_000d3af525c4row1_col3\" class=\"data row1 col3\" >0.203</td>\n",
       "            </tr>\n",
       "            <tr>\n",
       "                        <th id=\"T_730b6284_d389_11eb_98a6_000d3af525c4level0_row2\" class=\"row_heading level0 row2\" >10</th>\n",
       "                        <td id=\"T_730b6284_d389_11eb_98a6_000d3af525c4row2_col0\" class=\"data row2 col0\" >1.02e+04</td>\n",
       "                        <td id=\"T_730b6284_d389_11eb_98a6_000d3af525c4row2_col1\" class=\"data row2 col1\" >1.13e+04</td>\n",
       "                        <td id=\"T_730b6284_d389_11eb_98a6_000d3af525c4row2_col2\" class=\"data row2 col2\" >0.112</td>\n",
       "                        <td id=\"T_730b6284_d389_11eb_98a6_000d3af525c4row2_col3\" class=\"data row2 col3\" >0.135</td>\n",
       "            </tr>\n",
       "            <tr>\n",
       "                        <th id=\"T_730b6284_d389_11eb_98a6_000d3af525c4level0_row3\" class=\"row_heading level0 row3\" >15</th>\n",
       "                        <td id=\"T_730b6284_d389_11eb_98a6_000d3af525c4row3_col0\" class=\"data row3 col0\" >9.98e+03</td>\n",
       "                        <td id=\"T_730b6284_d389_11eb_98a6_000d3af525c4row3_col1\" class=\"data row3 col1\" >1.1e+04</td>\n",
       "                        <td id=\"T_730b6284_d389_11eb_98a6_000d3af525c4row3_col2\" class=\"data row3 col2\" >0.0826</td>\n",
       "                        <td id=\"T_730b6284_d389_11eb_98a6_000d3af525c4row3_col3\" class=\"data row3 col3\" >0.0998</td>\n",
       "            </tr>\n",
       "    </tbody></table>"
      ],
      "text/plain": [
       "<pandas.io.formats.style.Styler at 0x7f2394c3e150>"
      ]
     },
     "metadata": {},
     "output_type": "display_data"
    },
    {
     "name": "stdout",
     "output_type": "stream",
     "text": [
      "[\u001b[1mtardis.simulation.base\u001b[0m][\u001b[1;37mINFO\u001b[0m   ]  \n",
      "\tCurrent t_inner = 11468.808 K\n",
      "\tExpected t_inner for next iteration = 9929.475 K\n",
      " (\u001b[1mbase.py\u001b[0m:458)\n"
     ]
    },
    {
     "name": "stdout",
     "output_type": "stream",
     "text": [
      "[\u001b[1mtardis.plasma.base  \u001b[0m][\u001b[1;34mDEBUG\u001b[0m  ]  Updating modules in the following order: JBluesDiluteBlackBody->ElectronTemperature->BetaRadiation->LevelBoltzmannFactorLTE->LevelBoltzmannFactorNoNLTE->PartitionFunction->GElectron->PhiSahaLTE->IonNumberDensity->LevelNumberDensity->StimulatedEmissionFactor->TauSobolev->BetaSobolev->TransitionProbabilities (\u001b[1mbase.py\u001b[0m:267)\n"
     ]
    },
    {
     "name": "stdout",
     "output_type": "stream",
     "text": [
      "[\u001b[1mtardis.simulation.base\u001b[0m][\u001b[1;37mINFO\u001b[0m   ]  \n",
      "\tStarting iteration 3 of 5 (\u001b[1mbase.py\u001b[0m:325)\n"
     ]
    },
    {
     "name": "stdout",
     "output_type": "stream",
     "text": [
      "[\u001b[1mtardis.simulation.base\u001b[0m][\u001b[1;37mINFO\u001b[0m   ]  \n",
      "\tLuminosity emitted   = 8.259e+42 erg / s\n",
      "\tLuminosity absorbed  = 2.337e+42 erg / s\n",
      "\tLuminosity requested = 1.059e+43 erg / s\n",
      " (\u001b[1mbase.py\u001b[0m:463)\n"
     ]
    },
    {
     "name": "stdout",
     "output_type": "stream",
     "text": [
      "[\u001b[1mtardis.simulation.base\u001b[0m][\u001b[1;37mINFO\u001b[0m   ]  \n",
      "\tPlasma stratification: (\u001b[1mbase.py\u001b[0m:430)\n"
     ]
    },
    {
     "data": {
      "text/html": [
       "<style  type=\"text/css\" >\n",
       "</style><table id=\"T_7320a1a8_d389_11eb_98a6_000d3af525c4\" ><thead>    <tr>        <th class=\"index_name level0\" >Shell No.</th>        <th class=\"col_heading level0 col0\" >t_rad</th>        <th class=\"col_heading level0 col1\" >next_t_rad</th>        <th class=\"col_heading level0 col2\" >w</th>        <th class=\"col_heading level0 col3\" >next_w</th>    </tr></thead><tbody>\n",
       "                <tr>\n",
       "                        <th id=\"T_7320a1a8_d389_11eb_98a6_000d3af525c4level0_row0\" class=\"row_heading level0 row0\" >0</th>\n",
       "                        <td id=\"T_7320a1a8_d389_11eb_98a6_000d3af525c4row0_col0\" class=\"data row0 col0\" >1.15e+04</td>\n",
       "                        <td id=\"T_7320a1a8_d389_11eb_98a6_000d3af525c4row0_col1\" class=\"data row0 col1\" >1.03e+04</td>\n",
       "                        <td id=\"T_7320a1a8_d389_11eb_98a6_000d3af525c4row0_col2\" class=\"data row0 col2\" >0.555</td>\n",
       "                        <td id=\"T_7320a1a8_d389_11eb_98a6_000d3af525c4row0_col3\" class=\"data row0 col3\" >0.468</td>\n",
       "            </tr>\n",
       "            <tr>\n",
       "                        <th id=\"T_7320a1a8_d389_11eb_98a6_000d3af525c4level0_row1\" class=\"row_heading level0 row1\" >5</th>\n",
       "                        <td id=\"T_7320a1a8_d389_11eb_98a6_000d3af525c4row1_col0\" class=\"data row1 col0\" >1.17e+04</td>\n",
       "                        <td id=\"T_7320a1a8_d389_11eb_98a6_000d3af525c4row1_col1\" class=\"data row1 col1\" >1.05e+04</td>\n",
       "                        <td id=\"T_7320a1a8_d389_11eb_98a6_000d3af525c4row1_col2\" class=\"data row1 col2\" >0.203</td>\n",
       "                        <td id=\"T_7320a1a8_d389_11eb_98a6_000d3af525c4row1_col3\" class=\"data row1 col3\" >0.181</td>\n",
       "            </tr>\n",
       "            <tr>\n",
       "                        <th id=\"T_7320a1a8_d389_11eb_98a6_000d3af525c4level0_row2\" class=\"row_heading level0 row2\" >10</th>\n",
       "                        <td id=\"T_7320a1a8_d389_11eb_98a6_000d3af525c4row2_col0\" class=\"data row2 col0\" >1.13e+04</td>\n",
       "                        <td id=\"T_7320a1a8_d389_11eb_98a6_000d3af525c4row2_col1\" class=\"data row2 col1\" >1.05e+04</td>\n",
       "                        <td id=\"T_7320a1a8_d389_11eb_98a6_000d3af525c4row2_col2\" class=\"data row2 col2\" >0.135</td>\n",
       "                        <td id=\"T_7320a1a8_d389_11eb_98a6_000d3af525c4row2_col3\" class=\"data row2 col3\" >0.108</td>\n",
       "            </tr>\n",
       "            <tr>\n",
       "                        <th id=\"T_7320a1a8_d389_11eb_98a6_000d3af525c4level0_row3\" class=\"row_heading level0 row3\" >15</th>\n",
       "                        <td id=\"T_7320a1a8_d389_11eb_98a6_000d3af525c4row3_col0\" class=\"data row3 col0\" >1.1e+04</td>\n",
       "                        <td id=\"T_7320a1a8_d389_11eb_98a6_000d3af525c4row3_col1\" class=\"data row3 col1\" >1.03e+04</td>\n",
       "                        <td id=\"T_7320a1a8_d389_11eb_98a6_000d3af525c4row3_col2\" class=\"data row3 col2\" >0.0998</td>\n",
       "                        <td id=\"T_7320a1a8_d389_11eb_98a6_000d3af525c4row3_col3\" class=\"data row3 col3\" >0.0779</td>\n",
       "            </tr>\n",
       "    </tbody></table>"
      ],
      "text/plain": [
       "<pandas.io.formats.style.Styler at 0x7f2394c3ead0>"
      ]
     },
     "metadata": {},
     "output_type": "display_data"
    },
    {
     "name": "stdout",
     "output_type": "stream",
     "text": [
      "[\u001b[1mtardis.simulation.base\u001b[0m][\u001b[1;37mINFO\u001b[0m   ]  \n",
      "\tCurrent t_inner = 9929.475 K\n",
      "\tExpected t_inner for next iteration = 11245.497 K\n",
      " (\u001b[1mbase.py\u001b[0m:458)\n"
     ]
    },
    {
     "name": "stdout",
     "output_type": "stream",
     "text": [
      "[\u001b[1mtardis.plasma.base  \u001b[0m][\u001b[1;34mDEBUG\u001b[0m  ]  Updating modules in the following order: JBluesDiluteBlackBody->ElectronTemperature->BetaRadiation->LevelBoltzmannFactorLTE->LevelBoltzmannFactorNoNLTE->PartitionFunction->GElectron->PhiSahaLTE->IonNumberDensity->LevelNumberDensity->StimulatedEmissionFactor->TauSobolev->BetaSobolev->TransitionProbabilities (\u001b[1mbase.py\u001b[0m:267)\n"
     ]
    },
    {
     "name": "stdout",
     "output_type": "stream",
     "text": [
      "[\u001b[1mtardis.simulation.base\u001b[0m][\u001b[1;37mINFO\u001b[0m   ]  \n",
      "\tStarting iteration 4 of 5 (\u001b[1mbase.py\u001b[0m:325)\n"
     ]
    },
    {
     "name": "stdout",
     "output_type": "stream",
     "text": [
      "[\u001b[1mtardis.simulation.base\u001b[0m][\u001b[1;37mINFO\u001b[0m   ]  \n",
      "\tLuminosity emitted   = 1.299e+43 erg / s\n",
      "\tLuminosity absorbed  = 4.407e+42 erg / s\n",
      "\tLuminosity requested = 1.059e+43 erg / s\n",
      " (\u001b[1mbase.py\u001b[0m:463)\n"
     ]
    },
    {
     "name": "stdout",
     "output_type": "stream",
     "text": [
      "[\u001b[1mtardis.simulation.base\u001b[0m][\u001b[1;37mINFO\u001b[0m   ]  \n",
      "\tPlasma stratification: (\u001b[1mbase.py\u001b[0m:430)\n"
     ]
    },
    {
     "data": {
      "text/html": [
       "<style  type=\"text/css\" >\n",
       "</style><table id=\"T_7336b312_d389_11eb_98a6_000d3af525c4\" ><thead>    <tr>        <th class=\"index_name level0\" >Shell No.</th>        <th class=\"col_heading level0 col0\" >t_rad</th>        <th class=\"col_heading level0 col1\" >next_t_rad</th>        <th class=\"col_heading level0 col2\" >w</th>        <th class=\"col_heading level0 col3\" >next_w</th>    </tr></thead><tbody>\n",
       "                <tr>\n",
       "                        <th id=\"T_7336b312_d389_11eb_98a6_000d3af525c4level0_row0\" class=\"row_heading level0 row0\" >0</th>\n",
       "                        <td id=\"T_7336b312_d389_11eb_98a6_000d3af525c4row0_col0\" class=\"data row0 col0\" >1.03e+04</td>\n",
       "                        <td id=\"T_7336b312_d389_11eb_98a6_000d3af525c4row0_col1\" class=\"data row0 col1\" >1.14e+04</td>\n",
       "                        <td id=\"T_7336b312_d389_11eb_98a6_000d3af525c4row0_col2\" class=\"data row0 col2\" >0.468</td>\n",
       "                        <td id=\"T_7336b312_d389_11eb_98a6_000d3af525c4row0_col3\" class=\"data row0 col3\" >0.527</td>\n",
       "            </tr>\n",
       "            <tr>\n",
       "                        <th id=\"T_7336b312_d389_11eb_98a6_000d3af525c4level0_row1\" class=\"row_heading level0 row1\" >5</th>\n",
       "                        <td id=\"T_7336b312_d389_11eb_98a6_000d3af525c4row1_col0\" class=\"data row1 col0\" >1.05e+04</td>\n",
       "                        <td id=\"T_7336b312_d389_11eb_98a6_000d3af525c4row1_col1\" class=\"data row1 col1\" >1.13e+04</td>\n",
       "                        <td id=\"T_7336b312_d389_11eb_98a6_000d3af525c4row1_col2\" class=\"data row1 col2\" >0.181</td>\n",
       "                        <td id=\"T_7336b312_d389_11eb_98a6_000d3af525c4row1_col3\" class=\"data row1 col3\" >0.225</td>\n",
       "            </tr>\n",
       "            <tr>\n",
       "                        <th id=\"T_7336b312_d389_11eb_98a6_000d3af525c4level0_row2\" class=\"row_heading level0 row2\" >10</th>\n",
       "                        <td id=\"T_7336b312_d389_11eb_98a6_000d3af525c4row2_col0\" class=\"data row2 col0\" >1.05e+04</td>\n",
       "                        <td id=\"T_7336b312_d389_11eb_98a6_000d3af525c4row2_col1\" class=\"data row2 col1\" >1.12e+04</td>\n",
       "                        <td id=\"T_7336b312_d389_11eb_98a6_000d3af525c4row2_col2\" class=\"data row2 col2\" >0.108</td>\n",
       "                        <td id=\"T_7336b312_d389_11eb_98a6_000d3af525c4row2_col3\" class=\"data row2 col3\" >0.126</td>\n",
       "            </tr>\n",
       "            <tr>\n",
       "                        <th id=\"T_7336b312_d389_11eb_98a6_000d3af525c4level0_row3\" class=\"row_heading level0 row3\" >15</th>\n",
       "                        <td id=\"T_7336b312_d389_11eb_98a6_000d3af525c4row3_col0\" class=\"data row3 col0\" >1.03e+04</td>\n",
       "                        <td id=\"T_7336b312_d389_11eb_98a6_000d3af525c4row3_col1\" class=\"data row3 col1\" >1.1e+04</td>\n",
       "                        <td id=\"T_7336b312_d389_11eb_98a6_000d3af525c4row3_col2\" class=\"data row3 col2\" >0.0779</td>\n",
       "                        <td id=\"T_7336b312_d389_11eb_98a6_000d3af525c4row3_col3\" class=\"data row3 col3\" >0.0926</td>\n",
       "            </tr>\n",
       "    </tbody></table>"
      ],
      "text/plain": [
       "<pandas.io.formats.style.Styler at 0x7f2394c36610>"
      ]
     },
     "metadata": {},
     "output_type": "display_data"
    },
    {
     "name": "stdout",
     "output_type": "stream",
     "text": [
      "[\u001b[1mtardis.simulation.base\u001b[0m][\u001b[1;37mINFO\u001b[0m   ]  \n",
      "\tCurrent t_inner = 11245.497 K\n",
      "\tExpected t_inner for next iteration = 10153.431 K\n",
      " (\u001b[1mbase.py\u001b[0m:458)\n"
     ]
    },
    {
     "name": "stdout",
     "output_type": "stream",
     "text": [
      "[\u001b[1mtardis.plasma.base  \u001b[0m][\u001b[1;34mDEBUG\u001b[0m  ]  Updating modules in the following order: JBluesDiluteBlackBody->ElectronTemperature->BetaRadiation->LevelBoltzmannFactorLTE->LevelBoltzmannFactorNoNLTE->PartitionFunction->GElectron->PhiSahaLTE->IonNumberDensity->LevelNumberDensity->StimulatedEmissionFactor->TauSobolev->BetaSobolev->TransitionProbabilities (\u001b[1mbase.py\u001b[0m:267)\n"
     ]
    },
    {
     "name": "stdout",
     "output_type": "stream",
     "text": [
      "[\u001b[1mtardis.simulation.base\u001b[0m][\u001b[1;37mINFO\u001b[0m   ]  \n",
      "\tStarting iteration 5 of 5 (\u001b[1mbase.py\u001b[0m:325)\n"
     ]
    },
    {
     "name": "stdout",
     "output_type": "stream",
     "text": [
      "[\u001b[1mtardis.simulation.base\u001b[0m][\u001b[1;37mINFO\u001b[0m   ]  \n",
      "\tLuminosity emitted   = 8.742e+42 erg / s\n",
      "\tLuminosity absorbed  = 2.834e+42 erg / s\n",
      "\tLuminosity requested = 1.059e+43 erg / s\n",
      " (\u001b[1mbase.py\u001b[0m:463)\n"
     ]
    },
    {
     "name": "stdout",
     "output_type": "stream",
     "text": [
      "[\u001b[1mtardis.simulation.base\u001b[0m][\u001b[1;37mINFO\u001b[0m   ]  \n",
      "\tSimulation finished in 5 iterations \n",
      "\tSimulation took 0.95 s\n",
      " (\u001b[1mbase.py\u001b[0m:384)\n"
     ]
    }
   ],
   "source": [
    "sim = run_tardis(config)"
   ]
  },
  {
   "cell_type": "markdown",
   "id": "5e8f1dbe",
   "metadata": {},
   "source": [
    "### What Happens When Both Parameters Are Specified? { Function & YAML Arguments }"
   ]
  },
  {
   "cell_type": "markdown",
   "id": "f32403c7",
   "metadata": {},
   "source": [
    "If a user specifies both the parameters passed through the `log_state` & `logging_level` in the **YAML** configuration file, then the `log_state` parameter takes precedence & is used to determine the logging level for the simulation logs."
   ]
  },
  {
   "cell_type": "markdown",
   "id": "f2a24e11",
   "metadata": {},
   "source": [
    "Let us consider the following example for the configuration:"
   ]
  },
  {
   "cell_type": "markdown",
   "id": "863042a4",
   "metadata": {},
   "source": [
    "Continuing from the previous example, the `config[\"debug\"][\"logging_level\"]` is set to `Debug` via the **YAML** file. The user will also set the `log_state` to `Info`."
   ]
  },
  {
   "cell_type": "code",
   "execution_count": 15,
   "id": "30763e52",
   "metadata": {
    "execution": {
     "iopub.execute_input": "2021-06-22T18:41:26.643070Z",
     "iopub.status.busy": "2021-06-22T18:41:26.633355Z",
     "iopub.status.idle": "2021-06-22T18:41:30.282942Z",
     "shell.execute_reply": "2021-06-22T18:41:30.282404Z"
    },
    "scrolled": false
   },
   "outputs": [
    {
     "name": "stdout",
     "output_type": "stream",
     "text": [
      "log_state & logging_level both specified\n",
      "log_state = Info will be used for Log Level Determination\n",
      "\n",
      "[\u001b[1mtardis.plasma.standard_plasmas\u001b[0m][\u001b[1;37mINFO\u001b[0m   ]  \n",
      "\tReading Atomic Data from kurucz_cd23_chianti_H_He.h5 (\u001b[1mstandard_plasmas.py\u001b[0m:91)\n"
     ]
    },
    {
     "name": "stdout",
     "output_type": "stream",
     "text": [
      "[\u001b[1mtardis.io.atom_data.util\u001b[0m][\u001b[1;37mINFO\u001b[0m   ]  \n",
      "\tAtom Data kurucz_cd23_chianti_H_He.h5 not found in local path.\n",
      "\tExists in TARDIS Data repo /home/runner/Downloads/tardis-data/kurucz_cd23_chianti_H_He.h5 (\u001b[1mutil.py\u001b[0m:34)\n"
     ]
    },
    {
     "name": "stdout",
     "output_type": "stream",
     "text": [
      "[\u001b[1mtardis.io.atom_data.base\u001b[0m][\u001b[1;37mINFO\u001b[0m   ]  \n",
      "\tReading Atom Data with:\n",
      "\tUUID = 6f7b09e887a311e7a06b246e96350010\n",
      "\tMD5  = 864f1753714343c41f99cb065710cace  (\u001b[1mbase.py\u001b[0m:189)\n"
     ]
    },
    {
     "name": "stdout",
     "output_type": "stream",
     "text": [
      "[\u001b[1mtardis.io.atom_data.base\u001b[0m][\u001b[1;37mINFO\u001b[0m   ]  \n",
      "\tNon provided atomic data:\n",
      "\tsynpp_refs, photoionization_data, yg_data, two_photon_data (\u001b[1mbase.py\u001b[0m:193)\n"
     ]
    },
    {
     "name": "stdout",
     "output_type": "stream",
     "text": [
      "[\u001b[1mtardis.simulation.base\u001b[0m][\u001b[1;37mINFO\u001b[0m   ]  \n",
      "\tStarting iteration 1 of 5 (\u001b[1mbase.py\u001b[0m:325)\n"
     ]
    },
    {
     "name": "stdout",
     "output_type": "stream",
     "text": [
      "[\u001b[1mtardis.simulation.base\u001b[0m][\u001b[1;37mINFO\u001b[0m   ]  \n",
      "\tLuminosity emitted   = 7.947e+42 erg / s\n",
      "\tLuminosity absorbed  = 2.654e+42 erg / s\n",
      "\tLuminosity requested = 1.059e+43 erg / s\n",
      " (\u001b[1mbase.py\u001b[0m:463)\n"
     ]
    },
    {
     "name": "stdout",
     "output_type": "stream",
     "text": [
      "[\u001b[1mtardis.simulation.base\u001b[0m][\u001b[1;37mINFO\u001b[0m   ]  \n",
      "\tPlasma stratification: (\u001b[1mbase.py\u001b[0m:430)\n"
     ]
    },
    {
     "data": {
      "text/html": [
       "<style  type=\"text/css\" >\n",
       "</style><table id=\"T_751ca204_d389_11eb_98a6_000d3af525c4\" ><thead>    <tr>        <th class=\"index_name level0\" >Shell No.</th>        <th class=\"col_heading level0 col0\" >t_rad</th>        <th class=\"col_heading level0 col1\" >next_t_rad</th>        <th class=\"col_heading level0 col2\" >w</th>        <th class=\"col_heading level0 col3\" >next_w</th>    </tr></thead><tbody>\n",
       "                <tr>\n",
       "                        <th id=\"T_751ca204_d389_11eb_98a6_000d3af525c4level0_row0\" class=\"row_heading level0 row0\" >0</th>\n",
       "                        <td id=\"T_751ca204_d389_11eb_98a6_000d3af525c4row0_col0\" class=\"data row0 col0\" >9.93e+03</td>\n",
       "                        <td id=\"T_751ca204_d389_11eb_98a6_000d3af525c4row0_col1\" class=\"data row0 col1\" >1.03e+04</td>\n",
       "                        <td id=\"T_751ca204_d389_11eb_98a6_000d3af525c4row0_col2\" class=\"data row0 col2\" >0.4</td>\n",
       "                        <td id=\"T_751ca204_d389_11eb_98a6_000d3af525c4row0_col3\" class=\"data row0 col3\" >0.481</td>\n",
       "            </tr>\n",
       "            <tr>\n",
       "                        <th id=\"T_751ca204_d389_11eb_98a6_000d3af525c4level0_row1\" class=\"row_heading level0 row1\" >5</th>\n",
       "                        <td id=\"T_751ca204_d389_11eb_98a6_000d3af525c4row1_col0\" class=\"data row1 col0\" >9.85e+03</td>\n",
       "                        <td id=\"T_751ca204_d389_11eb_98a6_000d3af525c4row1_col1\" class=\"data row1 col1\" >1.03e+04</td>\n",
       "                        <td id=\"T_751ca204_d389_11eb_98a6_000d3af525c4row1_col2\" class=\"data row1 col2\" >0.211</td>\n",
       "                        <td id=\"T_751ca204_d389_11eb_98a6_000d3af525c4row1_col3\" class=\"data row1 col3\" >0.193</td>\n",
       "            </tr>\n",
       "            <tr>\n",
       "                        <th id=\"T_751ca204_d389_11eb_98a6_000d3af525c4level0_row2\" class=\"row_heading level0 row2\" >10</th>\n",
       "                        <td id=\"T_751ca204_d389_11eb_98a6_000d3af525c4row2_col0\" class=\"data row2 col0\" >9.78e+03</td>\n",
       "                        <td id=\"T_751ca204_d389_11eb_98a6_000d3af525c4row2_col1\" class=\"data row2 col1\" >1.02e+04</td>\n",
       "                        <td id=\"T_751ca204_d389_11eb_98a6_000d3af525c4row2_col2\" class=\"data row2 col2\" >0.143</td>\n",
       "                        <td id=\"T_751ca204_d389_11eb_98a6_000d3af525c4row2_col3\" class=\"data row2 col3\" >0.112</td>\n",
       "            </tr>\n",
       "            <tr>\n",
       "                        <th id=\"T_751ca204_d389_11eb_98a6_000d3af525c4level0_row3\" class=\"row_heading level0 row3\" >15</th>\n",
       "                        <td id=\"T_751ca204_d389_11eb_98a6_000d3af525c4row3_col0\" class=\"data row3 col0\" >9.71e+03</td>\n",
       "                        <td id=\"T_751ca204_d389_11eb_98a6_000d3af525c4row3_col1\" class=\"data row3 col1\" >9.98e+03</td>\n",
       "                        <td id=\"T_751ca204_d389_11eb_98a6_000d3af525c4row3_col2\" class=\"data row3 col2\" >0.105</td>\n",
       "                        <td id=\"T_751ca204_d389_11eb_98a6_000d3af525c4row3_col3\" class=\"data row3 col3\" >0.0826</td>\n",
       "            </tr>\n",
       "    </tbody></table>"
      ],
      "text/plain": [
       "<pandas.io.formats.style.Styler at 0x7f2384ad5750>"
      ]
     },
     "metadata": {},
     "output_type": "display_data"
    },
    {
     "name": "stdout",
     "output_type": "stream",
     "text": [
      "[\u001b[1mtardis.simulation.base\u001b[0m][\u001b[1;37mINFO\u001b[0m   ]  \n",
      "\tCurrent t_inner = 9933.952 K\n",
      "\tExpected t_inner for next iteration = 11468.808 K\n",
      " (\u001b[1mbase.py\u001b[0m:458)\n"
     ]
    },
    {
     "name": "stdout",
     "output_type": "stream",
     "text": [
      "[\u001b[1mtardis.simulation.base\u001b[0m][\u001b[1;37mINFO\u001b[0m   ]  \n",
      "\tStarting iteration 2 of 5 (\u001b[1mbase.py\u001b[0m:325)\n"
     ]
    },
    {
     "name": "stdout",
     "output_type": "stream",
     "text": [
      "[\u001b[1mtardis.simulation.base\u001b[0m][\u001b[1;37mINFO\u001b[0m   ]  \n",
      "\tLuminosity emitted   = 1.413e+43 erg / s\n",
      "\tLuminosity absorbed  = 4.704e+42 erg / s\n",
      "\tLuminosity requested = 1.059e+43 erg / s\n",
      " (\u001b[1mbase.py\u001b[0m:463)\n"
     ]
    },
    {
     "name": "stdout",
     "output_type": "stream",
     "text": [
      "[\u001b[1mtardis.simulation.base\u001b[0m][\u001b[1;37mINFO\u001b[0m   ]  \n",
      "\tPlasma stratification: (\u001b[1mbase.py\u001b[0m:430)\n"
     ]
    },
    {
     "data": {
      "text/html": [
       "<style  type=\"text/css\" >\n",
       "</style><table id=\"T_753239ac_d389_11eb_98a6_000d3af525c4\" ><thead>    <tr>        <th class=\"index_name level0\" >Shell No.</th>        <th class=\"col_heading level0 col0\" >t_rad</th>        <th class=\"col_heading level0 col1\" >next_t_rad</th>        <th class=\"col_heading level0 col2\" >w</th>        <th class=\"col_heading level0 col3\" >next_w</th>    </tr></thead><tbody>\n",
       "                <tr>\n",
       "                        <th id=\"T_753239ac_d389_11eb_98a6_000d3af525c4level0_row0\" class=\"row_heading level0 row0\" >0</th>\n",
       "                        <td id=\"T_753239ac_d389_11eb_98a6_000d3af525c4row0_col0\" class=\"data row0 col0\" >1.03e+04</td>\n",
       "                        <td id=\"T_753239ac_d389_11eb_98a6_000d3af525c4row0_col1\" class=\"data row0 col1\" >1.15e+04</td>\n",
       "                        <td id=\"T_753239ac_d389_11eb_98a6_000d3af525c4row0_col2\" class=\"data row0 col2\" >0.481</td>\n",
       "                        <td id=\"T_753239ac_d389_11eb_98a6_000d3af525c4row0_col3\" class=\"data row0 col3\" >0.555</td>\n",
       "            </tr>\n",
       "            <tr>\n",
       "                        <th id=\"T_753239ac_d389_11eb_98a6_000d3af525c4level0_row1\" class=\"row_heading level0 row1\" >5</th>\n",
       "                        <td id=\"T_753239ac_d389_11eb_98a6_000d3af525c4row1_col0\" class=\"data row1 col0\" >1.03e+04</td>\n",
       "                        <td id=\"T_753239ac_d389_11eb_98a6_000d3af525c4row1_col1\" class=\"data row1 col1\" >1.17e+04</td>\n",
       "                        <td id=\"T_753239ac_d389_11eb_98a6_000d3af525c4row1_col2\" class=\"data row1 col2\" >0.193</td>\n",
       "                        <td id=\"T_753239ac_d389_11eb_98a6_000d3af525c4row1_col3\" class=\"data row1 col3\" >0.203</td>\n",
       "            </tr>\n",
       "            <tr>\n",
       "                        <th id=\"T_753239ac_d389_11eb_98a6_000d3af525c4level0_row2\" class=\"row_heading level0 row2\" >10</th>\n",
       "                        <td id=\"T_753239ac_d389_11eb_98a6_000d3af525c4row2_col0\" class=\"data row2 col0\" >1.02e+04</td>\n",
       "                        <td id=\"T_753239ac_d389_11eb_98a6_000d3af525c4row2_col1\" class=\"data row2 col1\" >1.13e+04</td>\n",
       "                        <td id=\"T_753239ac_d389_11eb_98a6_000d3af525c4row2_col2\" class=\"data row2 col2\" >0.112</td>\n",
       "                        <td id=\"T_753239ac_d389_11eb_98a6_000d3af525c4row2_col3\" class=\"data row2 col3\" >0.135</td>\n",
       "            </tr>\n",
       "            <tr>\n",
       "                        <th id=\"T_753239ac_d389_11eb_98a6_000d3af525c4level0_row3\" class=\"row_heading level0 row3\" >15</th>\n",
       "                        <td id=\"T_753239ac_d389_11eb_98a6_000d3af525c4row3_col0\" class=\"data row3 col0\" >9.98e+03</td>\n",
       "                        <td id=\"T_753239ac_d389_11eb_98a6_000d3af525c4row3_col1\" class=\"data row3 col1\" >1.1e+04</td>\n",
       "                        <td id=\"T_753239ac_d389_11eb_98a6_000d3af525c4row3_col2\" class=\"data row3 col2\" >0.0826</td>\n",
       "                        <td id=\"T_753239ac_d389_11eb_98a6_000d3af525c4row3_col3\" class=\"data row3 col3\" >0.0998</td>\n",
       "            </tr>\n",
       "    </tbody></table>"
      ],
      "text/plain": [
       "<pandas.io.formats.style.Styler at 0x7f2384ad5e90>"
      ]
     },
     "metadata": {},
     "output_type": "display_data"
    },
    {
     "name": "stdout",
     "output_type": "stream",
     "text": [
      "[\u001b[1mtardis.simulation.base\u001b[0m][\u001b[1;37mINFO\u001b[0m   ]  \n",
      "\tCurrent t_inner = 11468.808 K\n",
      "\tExpected t_inner for next iteration = 9929.475 K\n",
      " (\u001b[1mbase.py\u001b[0m:458)\n"
     ]
    },
    {
     "name": "stdout",
     "output_type": "stream",
     "text": [
      "[\u001b[1mtardis.simulation.base\u001b[0m][\u001b[1;37mINFO\u001b[0m   ]  \n",
      "\tStarting iteration 3 of 5 (\u001b[1mbase.py\u001b[0m:325)\n"
     ]
    },
    {
     "name": "stdout",
     "output_type": "stream",
     "text": [
      "[\u001b[1mtardis.simulation.base\u001b[0m][\u001b[1;37mINFO\u001b[0m   ]  \n",
      "\tLuminosity emitted   = 8.259e+42 erg / s\n",
      "\tLuminosity absorbed  = 2.337e+42 erg / s\n",
      "\tLuminosity requested = 1.059e+43 erg / s\n",
      " (\u001b[1mbase.py\u001b[0m:463)\n"
     ]
    },
    {
     "name": "stdout",
     "output_type": "stream",
     "text": [
      "[\u001b[1mtardis.simulation.base\u001b[0m][\u001b[1;37mINFO\u001b[0m   ]  \n",
      "\tPlasma stratification: (\u001b[1mbase.py\u001b[0m:430)\n"
     ]
    },
    {
     "data": {
      "text/html": [
       "<style  type=\"text/css\" >\n",
       "</style><table id=\"T_7549d17a_d389_11eb_98a6_000d3af525c4\" ><thead>    <tr>        <th class=\"index_name level0\" >Shell No.</th>        <th class=\"col_heading level0 col0\" >t_rad</th>        <th class=\"col_heading level0 col1\" >next_t_rad</th>        <th class=\"col_heading level0 col2\" >w</th>        <th class=\"col_heading level0 col3\" >next_w</th>    </tr></thead><tbody>\n",
       "                <tr>\n",
       "                        <th id=\"T_7549d17a_d389_11eb_98a6_000d3af525c4level0_row0\" class=\"row_heading level0 row0\" >0</th>\n",
       "                        <td id=\"T_7549d17a_d389_11eb_98a6_000d3af525c4row0_col0\" class=\"data row0 col0\" >1.15e+04</td>\n",
       "                        <td id=\"T_7549d17a_d389_11eb_98a6_000d3af525c4row0_col1\" class=\"data row0 col1\" >1.03e+04</td>\n",
       "                        <td id=\"T_7549d17a_d389_11eb_98a6_000d3af525c4row0_col2\" class=\"data row0 col2\" >0.555</td>\n",
       "                        <td id=\"T_7549d17a_d389_11eb_98a6_000d3af525c4row0_col3\" class=\"data row0 col3\" >0.468</td>\n",
       "            </tr>\n",
       "            <tr>\n",
       "                        <th id=\"T_7549d17a_d389_11eb_98a6_000d3af525c4level0_row1\" class=\"row_heading level0 row1\" >5</th>\n",
       "                        <td id=\"T_7549d17a_d389_11eb_98a6_000d3af525c4row1_col0\" class=\"data row1 col0\" >1.17e+04</td>\n",
       "                        <td id=\"T_7549d17a_d389_11eb_98a6_000d3af525c4row1_col1\" class=\"data row1 col1\" >1.05e+04</td>\n",
       "                        <td id=\"T_7549d17a_d389_11eb_98a6_000d3af525c4row1_col2\" class=\"data row1 col2\" >0.203</td>\n",
       "                        <td id=\"T_7549d17a_d389_11eb_98a6_000d3af525c4row1_col3\" class=\"data row1 col3\" >0.181</td>\n",
       "            </tr>\n",
       "            <tr>\n",
       "                        <th id=\"T_7549d17a_d389_11eb_98a6_000d3af525c4level0_row2\" class=\"row_heading level0 row2\" >10</th>\n",
       "                        <td id=\"T_7549d17a_d389_11eb_98a6_000d3af525c4row2_col0\" class=\"data row2 col0\" >1.13e+04</td>\n",
       "                        <td id=\"T_7549d17a_d389_11eb_98a6_000d3af525c4row2_col1\" class=\"data row2 col1\" >1.05e+04</td>\n",
       "                        <td id=\"T_7549d17a_d389_11eb_98a6_000d3af525c4row2_col2\" class=\"data row2 col2\" >0.135</td>\n",
       "                        <td id=\"T_7549d17a_d389_11eb_98a6_000d3af525c4row2_col3\" class=\"data row2 col3\" >0.108</td>\n",
       "            </tr>\n",
       "            <tr>\n",
       "                        <th id=\"T_7549d17a_d389_11eb_98a6_000d3af525c4level0_row3\" class=\"row_heading level0 row3\" >15</th>\n",
       "                        <td id=\"T_7549d17a_d389_11eb_98a6_000d3af525c4row3_col0\" class=\"data row3 col0\" >1.1e+04</td>\n",
       "                        <td id=\"T_7549d17a_d389_11eb_98a6_000d3af525c4row3_col1\" class=\"data row3 col1\" >1.03e+04</td>\n",
       "                        <td id=\"T_7549d17a_d389_11eb_98a6_000d3af525c4row3_col2\" class=\"data row3 col2\" >0.0998</td>\n",
       "                        <td id=\"T_7549d17a_d389_11eb_98a6_000d3af525c4row3_col3\" class=\"data row3 col3\" >0.0779</td>\n",
       "            </tr>\n",
       "    </tbody></table>"
      ],
      "text/plain": [
       "<pandas.io.formats.style.Styler at 0x7f2384ad5750>"
      ]
     },
     "metadata": {},
     "output_type": "display_data"
    },
    {
     "name": "stdout",
     "output_type": "stream",
     "text": [
      "[\u001b[1mtardis.simulation.base\u001b[0m][\u001b[1;37mINFO\u001b[0m   ]  \n",
      "\tCurrent t_inner = 9929.475 K\n",
      "\tExpected t_inner for next iteration = 11245.497 K\n",
      " (\u001b[1mbase.py\u001b[0m:458)\n"
     ]
    },
    {
     "name": "stdout",
     "output_type": "stream",
     "text": [
      "[\u001b[1mtardis.simulation.base\u001b[0m][\u001b[1;37mINFO\u001b[0m   ]  \n",
      "\tStarting iteration 4 of 5 (\u001b[1mbase.py\u001b[0m:325)\n"
     ]
    },
    {
     "name": "stdout",
     "output_type": "stream",
     "text": [
      "[\u001b[1mtardis.simulation.base\u001b[0m][\u001b[1;37mINFO\u001b[0m   ]  \n",
      "\tLuminosity emitted   = 1.299e+43 erg / s\n",
      "\tLuminosity absorbed  = 4.407e+42 erg / s\n",
      "\tLuminosity requested = 1.059e+43 erg / s\n",
      " (\u001b[1mbase.py\u001b[0m:463)\n"
     ]
    },
    {
     "name": "stdout",
     "output_type": "stream",
     "text": [
      "[\u001b[1mtardis.simulation.base\u001b[0m][\u001b[1;37mINFO\u001b[0m   ]  \n",
      "\tPlasma stratification: (\u001b[1mbase.py\u001b[0m:430)\n"
     ]
    },
    {
     "data": {
      "text/html": [
       "<style  type=\"text/css\" >\n",
       "</style><table id=\"T_755ef988_d389_11eb_98a6_000d3af525c4\" ><thead>    <tr>        <th class=\"index_name level0\" >Shell No.</th>        <th class=\"col_heading level0 col0\" >t_rad</th>        <th class=\"col_heading level0 col1\" >next_t_rad</th>        <th class=\"col_heading level0 col2\" >w</th>        <th class=\"col_heading level0 col3\" >next_w</th>    </tr></thead><tbody>\n",
       "                <tr>\n",
       "                        <th id=\"T_755ef988_d389_11eb_98a6_000d3af525c4level0_row0\" class=\"row_heading level0 row0\" >0</th>\n",
       "                        <td id=\"T_755ef988_d389_11eb_98a6_000d3af525c4row0_col0\" class=\"data row0 col0\" >1.03e+04</td>\n",
       "                        <td id=\"T_755ef988_d389_11eb_98a6_000d3af525c4row0_col1\" class=\"data row0 col1\" >1.14e+04</td>\n",
       "                        <td id=\"T_755ef988_d389_11eb_98a6_000d3af525c4row0_col2\" class=\"data row0 col2\" >0.468</td>\n",
       "                        <td id=\"T_755ef988_d389_11eb_98a6_000d3af525c4row0_col3\" class=\"data row0 col3\" >0.527</td>\n",
       "            </tr>\n",
       "            <tr>\n",
       "                        <th id=\"T_755ef988_d389_11eb_98a6_000d3af525c4level0_row1\" class=\"row_heading level0 row1\" >5</th>\n",
       "                        <td id=\"T_755ef988_d389_11eb_98a6_000d3af525c4row1_col0\" class=\"data row1 col0\" >1.05e+04</td>\n",
       "                        <td id=\"T_755ef988_d389_11eb_98a6_000d3af525c4row1_col1\" class=\"data row1 col1\" >1.13e+04</td>\n",
       "                        <td id=\"T_755ef988_d389_11eb_98a6_000d3af525c4row1_col2\" class=\"data row1 col2\" >0.181</td>\n",
       "                        <td id=\"T_755ef988_d389_11eb_98a6_000d3af525c4row1_col3\" class=\"data row1 col3\" >0.225</td>\n",
       "            </tr>\n",
       "            <tr>\n",
       "                        <th id=\"T_755ef988_d389_11eb_98a6_000d3af525c4level0_row2\" class=\"row_heading level0 row2\" >10</th>\n",
       "                        <td id=\"T_755ef988_d389_11eb_98a6_000d3af525c4row2_col0\" class=\"data row2 col0\" >1.05e+04</td>\n",
       "                        <td id=\"T_755ef988_d389_11eb_98a6_000d3af525c4row2_col1\" class=\"data row2 col1\" >1.12e+04</td>\n",
       "                        <td id=\"T_755ef988_d389_11eb_98a6_000d3af525c4row2_col2\" class=\"data row2 col2\" >0.108</td>\n",
       "                        <td id=\"T_755ef988_d389_11eb_98a6_000d3af525c4row2_col3\" class=\"data row2 col3\" >0.126</td>\n",
       "            </tr>\n",
       "            <tr>\n",
       "                        <th id=\"T_755ef988_d389_11eb_98a6_000d3af525c4level0_row3\" class=\"row_heading level0 row3\" >15</th>\n",
       "                        <td id=\"T_755ef988_d389_11eb_98a6_000d3af525c4row3_col0\" class=\"data row3 col0\" >1.03e+04</td>\n",
       "                        <td id=\"T_755ef988_d389_11eb_98a6_000d3af525c4row3_col1\" class=\"data row3 col1\" >1.1e+04</td>\n",
       "                        <td id=\"T_755ef988_d389_11eb_98a6_000d3af525c4row3_col2\" class=\"data row3 col2\" >0.0779</td>\n",
       "                        <td id=\"T_755ef988_d389_11eb_98a6_000d3af525c4row3_col3\" class=\"data row3 col3\" >0.0926</td>\n",
       "            </tr>\n",
       "    </tbody></table>"
      ],
      "text/plain": [
       "<pandas.io.formats.style.Styler at 0x7f2384ad5b90>"
      ]
     },
     "metadata": {},
     "output_type": "display_data"
    },
    {
     "name": "stdout",
     "output_type": "stream",
     "text": [
      "[\u001b[1mtardis.simulation.base\u001b[0m][\u001b[1;37mINFO\u001b[0m   ]  \n",
      "\tCurrent t_inner = 11245.497 K\n",
      "\tExpected t_inner for next iteration = 10153.431 K\n",
      " (\u001b[1mbase.py\u001b[0m:458)\n"
     ]
    },
    {
     "name": "stdout",
     "output_type": "stream",
     "text": [
      "[\u001b[1mtardis.simulation.base\u001b[0m][\u001b[1;37mINFO\u001b[0m   ]  \n",
      "\tStarting iteration 5 of 5 (\u001b[1mbase.py\u001b[0m:325)\n"
     ]
    },
    {
     "name": "stdout",
     "output_type": "stream",
     "text": [
      "[\u001b[1mtardis.simulation.base\u001b[0m][\u001b[1;37mINFO\u001b[0m   ]  \n",
      "\tLuminosity emitted   = 8.742e+42 erg / s\n",
      "\tLuminosity absorbed  = 2.834e+42 erg / s\n",
      "\tLuminosity requested = 1.059e+43 erg / s\n",
      " (\u001b[1mbase.py\u001b[0m:463)\n"
     ]
    },
    {
     "name": "stdout",
     "output_type": "stream",
     "text": [
      "[\u001b[1mtardis.simulation.base\u001b[0m][\u001b[1;37mINFO\u001b[0m   ]  \n",
      "\tSimulation finished in 5 iterations \n",
      "\tSimulation took 0.99 s\n",
      " (\u001b[1mbase.py\u001b[0m:384)\n"
     ]
    }
   ],
   "source": [
    "sim = run_tardis(config, log_state = \"Info\")"
   ]
  },
  {
   "cell_type": "markdown",
   "id": "674f4972",
   "metadata": {},
   "source": [
    "A new message can be seen from the execution of the simulation,\n",
    "```\n",
    "Log_state & logging_level both specified\n",
    "Log_state will be used for Log Level Determination\n",
    "```\n",
    "that is informing the user which input log level value will determine the logging level. Thus, `log_state = \"Info\"` is used for logging the simulation output."
   ]
  },
  {
   "cell_type": "markdown",
   "id": "9ff806bd",
   "metadata": {},
   "source": [
    "In regards to the `specific` parameter, if any of the config input value is `True`, then `specific logging` will be set to `True` for the simulation output."
   ]
  },
  {
   "cell_type": "code",
   "execution_count": 16,
   "id": "5d1900f5",
   "metadata": {
    "execution": {
     "iopub.execute_input": "2021-06-22T18:41:30.306925Z",
     "iopub.status.busy": "2021-06-22T18:41:30.296519Z",
     "iopub.status.idle": "2021-06-22T18:41:33.718134Z",
     "shell.execute_reply": "2021-06-22T18:41:33.717378Z"
    },
    "scrolled": false
   },
   "outputs": [
    {
     "name": "stdout",
     "output_type": "stream",
     "text": [
      "log_state & logging_level both specified\n",
      "log_state = Info will be used for Log Level Determination\n",
      "\n",
      "[\u001b[1mtardis.plasma.standard_plasmas\u001b[0m][\u001b[1;37mINFO\u001b[0m   ]  \n",
      "\tReading Atomic Data from kurucz_cd23_chianti_H_He.h5 (\u001b[1mstandard_plasmas.py\u001b[0m:91)\n"
     ]
    },
    {
     "name": "stdout",
     "output_type": "stream",
     "text": [
      "[\u001b[1mtardis.io.atom_data.util\u001b[0m][\u001b[1;37mINFO\u001b[0m   ]  \n",
      "\tAtom Data kurucz_cd23_chianti_H_He.h5 not found in local path.\n",
      "\tExists in TARDIS Data repo /home/runner/Downloads/tardis-data/kurucz_cd23_chianti_H_He.h5 (\u001b[1mutil.py\u001b[0m:34)\n"
     ]
    },
    {
     "name": "stdout",
     "output_type": "stream",
     "text": [
      "[\u001b[1mtardis.io.atom_data.base\u001b[0m][\u001b[1;37mINFO\u001b[0m   ]  \n",
      "\tReading Atom Data with:\n",
      "\tUUID = 6f7b09e887a311e7a06b246e96350010\n",
      "\tMD5  = 864f1753714343c41f99cb065710cace  (\u001b[1mbase.py\u001b[0m:189)\n"
     ]
    },
    {
     "name": "stdout",
     "output_type": "stream",
     "text": [
      "[\u001b[1mtardis.io.atom_data.base\u001b[0m][\u001b[1;37mINFO\u001b[0m   ]  \n",
      "\tNon provided atomic data:\n",
      "\tsynpp_refs, photoionization_data, yg_data, two_photon_data (\u001b[1mbase.py\u001b[0m:193)\n"
     ]
    },
    {
     "name": "stdout",
     "output_type": "stream",
     "text": [
      "[\u001b[1mtardis.simulation.base\u001b[0m][\u001b[1;37mINFO\u001b[0m   ]  \n",
      "\tStarting iteration 1 of 5 (\u001b[1mbase.py\u001b[0m:325)\n"
     ]
    },
    {
     "name": "stdout",
     "output_type": "stream",
     "text": [
      "[\u001b[1mtardis.simulation.base\u001b[0m][\u001b[1;37mINFO\u001b[0m   ]  \n",
      "\tLuminosity emitted   = 7.947e+42 erg / s\n",
      "\tLuminosity absorbed  = 2.654e+42 erg / s\n",
      "\tLuminosity requested = 1.059e+43 erg / s\n",
      " (\u001b[1mbase.py\u001b[0m:463)\n"
     ]
    },
    {
     "name": "stdout",
     "output_type": "stream",
     "text": [
      "[\u001b[1mtardis.simulation.base\u001b[0m][\u001b[1;37mINFO\u001b[0m   ]  \n",
      "\tPlasma stratification: (\u001b[1mbase.py\u001b[0m:430)\n"
     ]
    },
    {
     "data": {
      "text/html": [
       "<style  type=\"text/css\" >\n",
       "</style><table id=\"T_772b78fe_d389_11eb_98a6_000d3af525c4\" ><thead>    <tr>        <th class=\"index_name level0\" >Shell No.</th>        <th class=\"col_heading level0 col0\" >t_rad</th>        <th class=\"col_heading level0 col1\" >next_t_rad</th>        <th class=\"col_heading level0 col2\" >w</th>        <th class=\"col_heading level0 col3\" >next_w</th>    </tr></thead><tbody>\n",
       "                <tr>\n",
       "                        <th id=\"T_772b78fe_d389_11eb_98a6_000d3af525c4level0_row0\" class=\"row_heading level0 row0\" >0</th>\n",
       "                        <td id=\"T_772b78fe_d389_11eb_98a6_000d3af525c4row0_col0\" class=\"data row0 col0\" >9.93e+03</td>\n",
       "                        <td id=\"T_772b78fe_d389_11eb_98a6_000d3af525c4row0_col1\" class=\"data row0 col1\" >1.03e+04</td>\n",
       "                        <td id=\"T_772b78fe_d389_11eb_98a6_000d3af525c4row0_col2\" class=\"data row0 col2\" >0.4</td>\n",
       "                        <td id=\"T_772b78fe_d389_11eb_98a6_000d3af525c4row0_col3\" class=\"data row0 col3\" >0.481</td>\n",
       "            </tr>\n",
       "            <tr>\n",
       "                        <th id=\"T_772b78fe_d389_11eb_98a6_000d3af525c4level0_row1\" class=\"row_heading level0 row1\" >5</th>\n",
       "                        <td id=\"T_772b78fe_d389_11eb_98a6_000d3af525c4row1_col0\" class=\"data row1 col0\" >9.85e+03</td>\n",
       "                        <td id=\"T_772b78fe_d389_11eb_98a6_000d3af525c4row1_col1\" class=\"data row1 col1\" >1.03e+04</td>\n",
       "                        <td id=\"T_772b78fe_d389_11eb_98a6_000d3af525c4row1_col2\" class=\"data row1 col2\" >0.211</td>\n",
       "                        <td id=\"T_772b78fe_d389_11eb_98a6_000d3af525c4row1_col3\" class=\"data row1 col3\" >0.193</td>\n",
       "            </tr>\n",
       "            <tr>\n",
       "                        <th id=\"T_772b78fe_d389_11eb_98a6_000d3af525c4level0_row2\" class=\"row_heading level0 row2\" >10</th>\n",
       "                        <td id=\"T_772b78fe_d389_11eb_98a6_000d3af525c4row2_col0\" class=\"data row2 col0\" >9.78e+03</td>\n",
       "                        <td id=\"T_772b78fe_d389_11eb_98a6_000d3af525c4row2_col1\" class=\"data row2 col1\" >1.02e+04</td>\n",
       "                        <td id=\"T_772b78fe_d389_11eb_98a6_000d3af525c4row2_col2\" class=\"data row2 col2\" >0.143</td>\n",
       "                        <td id=\"T_772b78fe_d389_11eb_98a6_000d3af525c4row2_col3\" class=\"data row2 col3\" >0.112</td>\n",
       "            </tr>\n",
       "            <tr>\n",
       "                        <th id=\"T_772b78fe_d389_11eb_98a6_000d3af525c4level0_row3\" class=\"row_heading level0 row3\" >15</th>\n",
       "                        <td id=\"T_772b78fe_d389_11eb_98a6_000d3af525c4row3_col0\" class=\"data row3 col0\" >9.71e+03</td>\n",
       "                        <td id=\"T_772b78fe_d389_11eb_98a6_000d3af525c4row3_col1\" class=\"data row3 col1\" >9.98e+03</td>\n",
       "                        <td id=\"T_772b78fe_d389_11eb_98a6_000d3af525c4row3_col2\" class=\"data row3 col2\" >0.105</td>\n",
       "                        <td id=\"T_772b78fe_d389_11eb_98a6_000d3af525c4row3_col3\" class=\"data row3 col3\" >0.0826</td>\n",
       "            </tr>\n",
       "    </tbody></table>"
      ],
      "text/plain": [
       "<pandas.io.formats.style.Styler at 0x7f2384295510>"
      ]
     },
     "metadata": {},
     "output_type": "display_data"
    },
    {
     "name": "stdout",
     "output_type": "stream",
     "text": [
      "[\u001b[1mtardis.simulation.base\u001b[0m][\u001b[1;37mINFO\u001b[0m   ]  \n",
      "\tCurrent t_inner = 9933.952 K\n",
      "\tExpected t_inner for next iteration = 11468.808 K\n",
      " (\u001b[1mbase.py\u001b[0m:458)\n"
     ]
    },
    {
     "name": "stdout",
     "output_type": "stream",
     "text": [
      "[\u001b[1mtardis.simulation.base\u001b[0m][\u001b[1;37mINFO\u001b[0m   ]  \n",
      "\tStarting iteration 2 of 5 (\u001b[1mbase.py\u001b[0m:325)\n"
     ]
    },
    {
     "name": "stdout",
     "output_type": "stream",
     "text": [
      "[\u001b[1mtardis.simulation.base\u001b[0m][\u001b[1;37mINFO\u001b[0m   ]  \n",
      "\tLuminosity emitted   = 1.413e+43 erg / s\n",
      "\tLuminosity absorbed  = 4.704e+42 erg / s\n",
      "\tLuminosity requested = 1.059e+43 erg / s\n",
      " (\u001b[1mbase.py\u001b[0m:463)\n"
     ]
    },
    {
     "name": "stdout",
     "output_type": "stream",
     "text": [
      "[\u001b[1mtardis.simulation.base\u001b[0m][\u001b[1;37mINFO\u001b[0m   ]  \n",
      "\tPlasma stratification: (\u001b[1mbase.py\u001b[0m:430)\n"
     ]
    },
    {
     "data": {
      "text/html": [
       "<style  type=\"text/css\" >\n",
       "</style><table id=\"T_77410e9e_d389_11eb_98a6_000d3af525c4\" ><thead>    <tr>        <th class=\"index_name level0\" >Shell No.</th>        <th class=\"col_heading level0 col0\" >t_rad</th>        <th class=\"col_heading level0 col1\" >next_t_rad</th>        <th class=\"col_heading level0 col2\" >w</th>        <th class=\"col_heading level0 col3\" >next_w</th>    </tr></thead><tbody>\n",
       "                <tr>\n",
       "                        <th id=\"T_77410e9e_d389_11eb_98a6_000d3af525c4level0_row0\" class=\"row_heading level0 row0\" >0</th>\n",
       "                        <td id=\"T_77410e9e_d389_11eb_98a6_000d3af525c4row0_col0\" class=\"data row0 col0\" >1.03e+04</td>\n",
       "                        <td id=\"T_77410e9e_d389_11eb_98a6_000d3af525c4row0_col1\" class=\"data row0 col1\" >1.15e+04</td>\n",
       "                        <td id=\"T_77410e9e_d389_11eb_98a6_000d3af525c4row0_col2\" class=\"data row0 col2\" >0.481</td>\n",
       "                        <td id=\"T_77410e9e_d389_11eb_98a6_000d3af525c4row0_col3\" class=\"data row0 col3\" >0.555</td>\n",
       "            </tr>\n",
       "            <tr>\n",
       "                        <th id=\"T_77410e9e_d389_11eb_98a6_000d3af525c4level0_row1\" class=\"row_heading level0 row1\" >5</th>\n",
       "                        <td id=\"T_77410e9e_d389_11eb_98a6_000d3af525c4row1_col0\" class=\"data row1 col0\" >1.03e+04</td>\n",
       "                        <td id=\"T_77410e9e_d389_11eb_98a6_000d3af525c4row1_col1\" class=\"data row1 col1\" >1.17e+04</td>\n",
       "                        <td id=\"T_77410e9e_d389_11eb_98a6_000d3af525c4row1_col2\" class=\"data row1 col2\" >0.193</td>\n",
       "                        <td id=\"T_77410e9e_d389_11eb_98a6_000d3af525c4row1_col3\" class=\"data row1 col3\" >0.203</td>\n",
       "            </tr>\n",
       "            <tr>\n",
       "                        <th id=\"T_77410e9e_d389_11eb_98a6_000d3af525c4level0_row2\" class=\"row_heading level0 row2\" >10</th>\n",
       "                        <td id=\"T_77410e9e_d389_11eb_98a6_000d3af525c4row2_col0\" class=\"data row2 col0\" >1.02e+04</td>\n",
       "                        <td id=\"T_77410e9e_d389_11eb_98a6_000d3af525c4row2_col1\" class=\"data row2 col1\" >1.13e+04</td>\n",
       "                        <td id=\"T_77410e9e_d389_11eb_98a6_000d3af525c4row2_col2\" class=\"data row2 col2\" >0.112</td>\n",
       "                        <td id=\"T_77410e9e_d389_11eb_98a6_000d3af525c4row2_col3\" class=\"data row2 col3\" >0.135</td>\n",
       "            </tr>\n",
       "            <tr>\n",
       "                        <th id=\"T_77410e9e_d389_11eb_98a6_000d3af525c4level0_row3\" class=\"row_heading level0 row3\" >15</th>\n",
       "                        <td id=\"T_77410e9e_d389_11eb_98a6_000d3af525c4row3_col0\" class=\"data row3 col0\" >9.98e+03</td>\n",
       "                        <td id=\"T_77410e9e_d389_11eb_98a6_000d3af525c4row3_col1\" class=\"data row3 col1\" >1.1e+04</td>\n",
       "                        <td id=\"T_77410e9e_d389_11eb_98a6_000d3af525c4row3_col2\" class=\"data row3 col2\" >0.0826</td>\n",
       "                        <td id=\"T_77410e9e_d389_11eb_98a6_000d3af525c4row3_col3\" class=\"data row3 col3\" >0.0998</td>\n",
       "            </tr>\n",
       "    </tbody></table>"
      ],
      "text/plain": [
       "<pandas.io.formats.style.Styler at 0x7f2384c4be10>"
      ]
     },
     "metadata": {},
     "output_type": "display_data"
    },
    {
     "name": "stdout",
     "output_type": "stream",
     "text": [
      "[\u001b[1mtardis.simulation.base\u001b[0m][\u001b[1;37mINFO\u001b[0m   ]  \n",
      "\tCurrent t_inner = 11468.808 K\n",
      "\tExpected t_inner for next iteration = 9929.475 K\n",
      " (\u001b[1mbase.py\u001b[0m:458)\n"
     ]
    },
    {
     "name": "stdout",
     "output_type": "stream",
     "text": [
      "[\u001b[1mtardis.simulation.base\u001b[0m][\u001b[1;37mINFO\u001b[0m   ]  \n",
      "\tStarting iteration 3 of 5 (\u001b[1mbase.py\u001b[0m:325)\n"
     ]
    },
    {
     "name": "stdout",
     "output_type": "stream",
     "text": [
      "[\u001b[1mtardis.simulation.base\u001b[0m][\u001b[1;37mINFO\u001b[0m   ]  \n",
      "\tLuminosity emitted   = 8.259e+42 erg / s\n",
      "\tLuminosity absorbed  = 2.337e+42 erg / s\n",
      "\tLuminosity requested = 1.059e+43 erg / s\n",
      " (\u001b[1mbase.py\u001b[0m:463)\n"
     ]
    },
    {
     "name": "stdout",
     "output_type": "stream",
     "text": [
      "[\u001b[1mtardis.simulation.base\u001b[0m][\u001b[1;37mINFO\u001b[0m   ]  \n",
      "\tPlasma stratification: (\u001b[1mbase.py\u001b[0m:430)\n"
     ]
    },
    {
     "data": {
      "text/html": [
       "<style  type=\"text/css\" >\n",
       "</style><table id=\"T_775862c4_d389_11eb_98a6_000d3af525c4\" ><thead>    <tr>        <th class=\"index_name level0\" >Shell No.</th>        <th class=\"col_heading level0 col0\" >t_rad</th>        <th class=\"col_heading level0 col1\" >next_t_rad</th>        <th class=\"col_heading level0 col2\" >w</th>        <th class=\"col_heading level0 col3\" >next_w</th>    </tr></thead><tbody>\n",
       "                <tr>\n",
       "                        <th id=\"T_775862c4_d389_11eb_98a6_000d3af525c4level0_row0\" class=\"row_heading level0 row0\" >0</th>\n",
       "                        <td id=\"T_775862c4_d389_11eb_98a6_000d3af525c4row0_col0\" class=\"data row0 col0\" >1.15e+04</td>\n",
       "                        <td id=\"T_775862c4_d389_11eb_98a6_000d3af525c4row0_col1\" class=\"data row0 col1\" >1.03e+04</td>\n",
       "                        <td id=\"T_775862c4_d389_11eb_98a6_000d3af525c4row0_col2\" class=\"data row0 col2\" >0.555</td>\n",
       "                        <td id=\"T_775862c4_d389_11eb_98a6_000d3af525c4row0_col3\" class=\"data row0 col3\" >0.468</td>\n",
       "            </tr>\n",
       "            <tr>\n",
       "                        <th id=\"T_775862c4_d389_11eb_98a6_000d3af525c4level0_row1\" class=\"row_heading level0 row1\" >5</th>\n",
       "                        <td id=\"T_775862c4_d389_11eb_98a6_000d3af525c4row1_col0\" class=\"data row1 col0\" >1.17e+04</td>\n",
       "                        <td id=\"T_775862c4_d389_11eb_98a6_000d3af525c4row1_col1\" class=\"data row1 col1\" >1.05e+04</td>\n",
       "                        <td id=\"T_775862c4_d389_11eb_98a6_000d3af525c4row1_col2\" class=\"data row1 col2\" >0.203</td>\n",
       "                        <td id=\"T_775862c4_d389_11eb_98a6_000d3af525c4row1_col3\" class=\"data row1 col3\" >0.181</td>\n",
       "            </tr>\n",
       "            <tr>\n",
       "                        <th id=\"T_775862c4_d389_11eb_98a6_000d3af525c4level0_row2\" class=\"row_heading level0 row2\" >10</th>\n",
       "                        <td id=\"T_775862c4_d389_11eb_98a6_000d3af525c4row2_col0\" class=\"data row2 col0\" >1.13e+04</td>\n",
       "                        <td id=\"T_775862c4_d389_11eb_98a6_000d3af525c4row2_col1\" class=\"data row2 col1\" >1.05e+04</td>\n",
       "                        <td id=\"T_775862c4_d389_11eb_98a6_000d3af525c4row2_col2\" class=\"data row2 col2\" >0.135</td>\n",
       "                        <td id=\"T_775862c4_d389_11eb_98a6_000d3af525c4row2_col3\" class=\"data row2 col3\" >0.108</td>\n",
       "            </tr>\n",
       "            <tr>\n",
       "                        <th id=\"T_775862c4_d389_11eb_98a6_000d3af525c4level0_row3\" class=\"row_heading level0 row3\" >15</th>\n",
       "                        <td id=\"T_775862c4_d389_11eb_98a6_000d3af525c4row3_col0\" class=\"data row3 col0\" >1.1e+04</td>\n",
       "                        <td id=\"T_775862c4_d389_11eb_98a6_000d3af525c4row3_col1\" class=\"data row3 col1\" >1.03e+04</td>\n",
       "                        <td id=\"T_775862c4_d389_11eb_98a6_000d3af525c4row3_col2\" class=\"data row3 col2\" >0.0998</td>\n",
       "                        <td id=\"T_775862c4_d389_11eb_98a6_000d3af525c4row3_col3\" class=\"data row3 col3\" >0.0779</td>\n",
       "            </tr>\n",
       "    </tbody></table>"
      ],
      "text/plain": [
       "<pandas.io.formats.style.Styler at 0x7f2384c4b550>"
      ]
     },
     "metadata": {},
     "output_type": "display_data"
    },
    {
     "name": "stdout",
     "output_type": "stream",
     "text": [
      "[\u001b[1mtardis.simulation.base\u001b[0m][\u001b[1;37mINFO\u001b[0m   ]  \n",
      "\tCurrent t_inner = 9929.475 K\n",
      "\tExpected t_inner for next iteration = 11245.497 K\n",
      " (\u001b[1mbase.py\u001b[0m:458)\n"
     ]
    },
    {
     "name": "stdout",
     "output_type": "stream",
     "text": [
      "[\u001b[1mtardis.simulation.base\u001b[0m][\u001b[1;37mINFO\u001b[0m   ]  \n",
      "\tStarting iteration 4 of 5 (\u001b[1mbase.py\u001b[0m:325)\n"
     ]
    },
    {
     "name": "stdout",
     "output_type": "stream",
     "text": [
      "[\u001b[1mtardis.simulation.base\u001b[0m][\u001b[1;37mINFO\u001b[0m   ]  \n",
      "\tLuminosity emitted   = 1.299e+43 erg / s\n",
      "\tLuminosity absorbed  = 4.407e+42 erg / s\n",
      "\tLuminosity requested = 1.059e+43 erg / s\n",
      " (\u001b[1mbase.py\u001b[0m:463)\n"
     ]
    },
    {
     "name": "stdout",
     "output_type": "stream",
     "text": [
      "[\u001b[1mtardis.simulation.base\u001b[0m][\u001b[1;37mINFO\u001b[0m   ]  \n",
      "\tPlasma stratification: (\u001b[1mbase.py\u001b[0m:430)\n"
     ]
    },
    {
     "data": {
      "text/html": [
       "<style  type=\"text/css\" >\n",
       "</style><table id=\"T_776eda04_d389_11eb_98a6_000d3af525c4\" ><thead>    <tr>        <th class=\"index_name level0\" >Shell No.</th>        <th class=\"col_heading level0 col0\" >t_rad</th>        <th class=\"col_heading level0 col1\" >next_t_rad</th>        <th class=\"col_heading level0 col2\" >w</th>        <th class=\"col_heading level0 col3\" >next_w</th>    </tr></thead><tbody>\n",
       "                <tr>\n",
       "                        <th id=\"T_776eda04_d389_11eb_98a6_000d3af525c4level0_row0\" class=\"row_heading level0 row0\" >0</th>\n",
       "                        <td id=\"T_776eda04_d389_11eb_98a6_000d3af525c4row0_col0\" class=\"data row0 col0\" >1.03e+04</td>\n",
       "                        <td id=\"T_776eda04_d389_11eb_98a6_000d3af525c4row0_col1\" class=\"data row0 col1\" >1.14e+04</td>\n",
       "                        <td id=\"T_776eda04_d389_11eb_98a6_000d3af525c4row0_col2\" class=\"data row0 col2\" >0.468</td>\n",
       "                        <td id=\"T_776eda04_d389_11eb_98a6_000d3af525c4row0_col3\" class=\"data row0 col3\" >0.527</td>\n",
       "            </tr>\n",
       "            <tr>\n",
       "                        <th id=\"T_776eda04_d389_11eb_98a6_000d3af525c4level0_row1\" class=\"row_heading level0 row1\" >5</th>\n",
       "                        <td id=\"T_776eda04_d389_11eb_98a6_000d3af525c4row1_col0\" class=\"data row1 col0\" >1.05e+04</td>\n",
       "                        <td id=\"T_776eda04_d389_11eb_98a6_000d3af525c4row1_col1\" class=\"data row1 col1\" >1.13e+04</td>\n",
       "                        <td id=\"T_776eda04_d389_11eb_98a6_000d3af525c4row1_col2\" class=\"data row1 col2\" >0.181</td>\n",
       "                        <td id=\"T_776eda04_d389_11eb_98a6_000d3af525c4row1_col3\" class=\"data row1 col3\" >0.225</td>\n",
       "            </tr>\n",
       "            <tr>\n",
       "                        <th id=\"T_776eda04_d389_11eb_98a6_000d3af525c4level0_row2\" class=\"row_heading level0 row2\" >10</th>\n",
       "                        <td id=\"T_776eda04_d389_11eb_98a6_000d3af525c4row2_col0\" class=\"data row2 col0\" >1.05e+04</td>\n",
       "                        <td id=\"T_776eda04_d389_11eb_98a6_000d3af525c4row2_col1\" class=\"data row2 col1\" >1.12e+04</td>\n",
       "                        <td id=\"T_776eda04_d389_11eb_98a6_000d3af525c4row2_col2\" class=\"data row2 col2\" >0.108</td>\n",
       "                        <td id=\"T_776eda04_d389_11eb_98a6_000d3af525c4row2_col3\" class=\"data row2 col3\" >0.126</td>\n",
       "            </tr>\n",
       "            <tr>\n",
       "                        <th id=\"T_776eda04_d389_11eb_98a6_000d3af525c4level0_row3\" class=\"row_heading level0 row3\" >15</th>\n",
       "                        <td id=\"T_776eda04_d389_11eb_98a6_000d3af525c4row3_col0\" class=\"data row3 col0\" >1.03e+04</td>\n",
       "                        <td id=\"T_776eda04_d389_11eb_98a6_000d3af525c4row3_col1\" class=\"data row3 col1\" >1.1e+04</td>\n",
       "                        <td id=\"T_776eda04_d389_11eb_98a6_000d3af525c4row3_col2\" class=\"data row3 col2\" >0.0779</td>\n",
       "                        <td id=\"T_776eda04_d389_11eb_98a6_000d3af525c4row3_col3\" class=\"data row3 col3\" >0.0926</td>\n",
       "            </tr>\n",
       "    </tbody></table>"
      ],
      "text/plain": [
       "<pandas.io.formats.style.Styler at 0x7f23855ed210>"
      ]
     },
     "metadata": {},
     "output_type": "display_data"
    },
    {
     "name": "stdout",
     "output_type": "stream",
     "text": [
      "[\u001b[1mtardis.simulation.base\u001b[0m][\u001b[1;37mINFO\u001b[0m   ]  \n",
      "\tCurrent t_inner = 11245.497 K\n",
      "\tExpected t_inner for next iteration = 10153.431 K\n",
      " (\u001b[1mbase.py\u001b[0m:458)\n"
     ]
    },
    {
     "name": "stdout",
     "output_type": "stream",
     "text": [
      "[\u001b[1mtardis.simulation.base\u001b[0m][\u001b[1;37mINFO\u001b[0m   ]  \n",
      "\tStarting iteration 5 of 5 (\u001b[1mbase.py\u001b[0m:325)\n"
     ]
    },
    {
     "name": "stdout",
     "output_type": "stream",
     "text": [
      "[\u001b[1mtardis.simulation.base\u001b[0m][\u001b[1;37mINFO\u001b[0m   ]  \n",
      "\tLuminosity emitted   = 8.742e+42 erg / s\n",
      "\tLuminosity absorbed  = 2.834e+42 erg / s\n",
      "\tLuminosity requested = 1.059e+43 erg / s\n",
      " (\u001b[1mbase.py\u001b[0m:463)\n"
     ]
    },
    {
     "name": "stdout",
     "output_type": "stream",
     "text": [
      "[\u001b[1mtardis.simulation.base\u001b[0m][\u001b[1;37mINFO\u001b[0m   ]  \n",
      "\tSimulation finished in 5 iterations \n",
      "\tSimulation took 0.97 s\n",
      " (\u001b[1mbase.py\u001b[0m:384)\n"
     ]
    }
   ],
   "source": [
    "sim = run_tardis(config, log_state = \"Info\", specific = True)"
   ]
  }
 ],
 "metadata": {
  "kernelspec": {
   "display_name": "Python 3",
   "language": "python",
   "name": "python3"
  },
  "language_info": {
   "codemirror_mode": {
    "name": "ipython",
    "version": 3
   },
   "file_extension": ".py",
   "mimetype": "text/x-python",
   "name": "python",
   "nbconvert_exporter": "python",
   "pygments_lexer": "ipython3",
   "version": "3.7.10"
  }
 },
 "nbformat": 4,
 "nbformat_minor": 5
}
